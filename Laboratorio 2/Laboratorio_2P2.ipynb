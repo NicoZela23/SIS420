{
 "cells": [
  {
   "cell_type": "code",
   "execution_count": 1,
   "metadata": {
    "id": "qUxgZvq33-ID"
   },
   "outputs": [],
   "source": [
    "# utilizado para manejos de directorios y rutas\n",
    "import os\n",
    "\n",
    "# Computacion vectorial y cientifica para python\n",
    "import numpy as np\n",
    "\n",
    "# Librerias para graficación (trazado de gráficos)\n",
    "from matplotlib import pyplot\n",
    "from mpl_toolkits.mplot3d import Axes3D  # Necesario para graficar superficies 3D\n",
    "\n",
    "# llama a matplotlib a embeber graficas dentro de los cuadernillos\n",
    "%matplotlib inline"
   ]
  },
  {
   "cell_type": "code",
   "execution_count": 2,
   "metadata": {
    "id": "3zeLCpwjiQCT"
   },
   "outputs": [],
   "source": [
    "import pandas as pd\n",
    "from sklearn.preprocessing import LabelEncoder\n",
    "from datetime import datetime"
   ]
  },
  {
   "cell_type": "code",
   "execution_count": 3,
   "metadata": {
    "id": "V0ZXOA-6iUmV"
   },
   "outputs": [],
   "source": [
    "#Carga de dataset\n",
    "data = pd.read_csv('Smart watch prices.csv')"
   ]
  },
  {
   "cell_type": "code",
   "execution_count": 4,
   "metadata": {
    "colab": {
     "base_uri": "https://localhost:8080/"
    },
    "id": "h325dVhXicrs",
    "outputId": "8ebb530b-64d6-4f4d-f0d6-e52c0fa6d3f3"
   },
   "outputs": [
    {
     "name": "stdout",
     "output_type": "stream",
     "text": [
      "        Brand           Model Operating System                Connectivity  \\\n",
      "0       Apple  Watch Series 7          watchOS  Bluetooth, Wi-Fi, Cellular   \n",
      "1     Samsung  Galaxy Watch 4          Wear OS  Bluetooth, Wi-Fi, Cellular   \n",
      "2      Garmin          Venu 2        Garmin OS            Bluetooth, Wi-Fi   \n",
      "3      Fitbit         Versa 3        Fitbit OS            Bluetooth, Wi-Fi   \n",
      "4      Fossil           Gen 6          Wear OS            Bluetooth, Wi-Fi   \n",
      "..        ...             ...              ...                         ...   \n",
      "374  Withings       ScanWatch      Withings OS            Bluetooth, Wi-Fi   \n",
      "375      Zepp               Z          Zepp OS  Bluetooth, Wi-Fi, Cellular   \n",
      "376     Honor    Watch GS Pro          Lite OS            Bluetooth, Wi-Fi   \n",
      "377      Oppo      Watch Free          ColorOS            Bluetooth, Wi-Fi   \n",
      "378  TicWatch           Pro 3          Wear OS  Bluetooth, Wi-Fi, Cellular   \n",
      "\n",
      "    Display Type  Display Size (inches) Resolution Water Resistance (meters)  \\\n",
      "0         Retina                   1.90  396 x 484                        50   \n",
      "1         AMOLED                   1.40  450 x 450                        50   \n",
      "2         AMOLED                   1.30  416 x 416                        50   \n",
      "3         AMOLED                   1.58  336 x 336                        50   \n",
      "4         AMOLED                   1.28  416 x 416                        30   \n",
      "..           ...                    ...        ...                       ...   \n",
      "374       PMOLED                   1.38  348 x 442                        50   \n",
      "375       AMOLED                   1.39  454 x 454                        50   \n",
      "376       AMOLED                   1.39  454 x 454                        50   \n",
      "377       AMOLED                   1.64  326 x 326                        50   \n",
      "378       AMOLED                   1.40  454 x 454                        50   \n",
      "\n",
      "    Battery Life (days) Heart Rate Monitor  GPS  NFC Price (USD)  \n",
      "0                    18                Yes  Yes  Yes       $399   \n",
      "1                    40                Yes  Yes  Yes       $249   \n",
      "2                    11                Yes  Yes   No       $399   \n",
      "3                     6                Yes  Yes  Yes       $229   \n",
      "4                    24                Yes  Yes  Yes       $299   \n",
      "..                  ...                ...  ...  ...         ...  \n",
      "374                  30                Yes   No  Yes       $279   \n",
      "375                  15                Yes  Yes  Yes       $349   \n",
      "376                  25                Yes  Yes  Yes       $249   \n",
      "377                  14                Yes   No  Yes       $159   \n",
      "378                  72                Yes  Yes  Yes       $299   \n",
      "\n",
      "[379 rows x 13 columns]\n"
     ]
    }
   ],
   "source": [
    "print(data)"
   ]
  },
  {
   "cell_type": "code",
   "execution_count": 5,
   "metadata": {
    "colab": {
     "base_uri": "https://localhost:8080/"
    },
    "id": "ZoYIJwRyifh-",
    "outputId": "fa68e01d-c097-48de-928f-908c174de173"
   },
   "outputs": [
    {
     "name": "stdout",
     "output_type": "stream",
     "text": [
      "<class 'pandas.core.frame.DataFrame'>\n",
      "RangeIndex: 379 entries, 0 to 378\n",
      "Data columns (total 13 columns):\n",
      " #   Column                     Non-Null Count  Dtype  \n",
      "---  ------                     --------------  -----  \n",
      " 0   Brand                      378 non-null    object \n",
      " 1   Model                      378 non-null    object \n",
      " 2   Operating System           376 non-null    object \n",
      " 3   Connectivity               378 non-null    object \n",
      " 4   Display Type               377 non-null    object \n",
      " 5   Display Size (inches)      376 non-null    float64\n",
      " 6   Resolution                 375 non-null    object \n",
      " 7   Water Resistance (meters)  378 non-null    object \n",
      " 8   Battery Life (days)        378 non-null    object \n",
      " 9   Heart Rate Monitor         378 non-null    object \n",
      " 10  GPS                        378 non-null    object \n",
      " 11  NFC                        378 non-null    object \n",
      " 12  Price (USD)                378 non-null    object \n",
      "dtypes: float64(1), object(12)\n",
      "memory usage: 38.6+ KB\n"
     ]
    }
   ],
   "source": [
    "data.info()"
   ]
  },
  {
   "cell_type": "code",
   "execution_count": 6,
   "metadata": {
    "id": "HcW3ITuoi4aw"
   },
   "outputs": [],
   "source": [
    "columnas_eliminar = ['Price (USD)']\n",
    "simbolo = '$'\n",
    "\n",
    "for columna in columnas_eliminar:\n",
    "    data[columna] = data[columna].str.replace(simbolo, '', regex=False)"
   ]
  },
  {
   "cell_type": "code",
   "execution_count": 7,
   "metadata": {
    "colab": {
     "base_uri": "https://localhost:8080/"
    },
    "id": "CDcJv73OABpB",
    "outputId": "9d0fd490-2908-452f-a9ab-daa047272e3c"
   },
   "outputs": [
    {
     "name": "stdout",
     "output_type": "stream",
     "text": [
      "        Brand           Model Operating System                Connectivity  \\\n",
      "0       Apple  Watch Series 7          watchOS  Bluetooth, Wi-Fi, Cellular   \n",
      "1     Samsung  Galaxy Watch 4          Wear OS  Bluetooth, Wi-Fi, Cellular   \n",
      "2      Garmin          Venu 2        Garmin OS            Bluetooth, Wi-Fi   \n",
      "3      Fitbit         Versa 3        Fitbit OS            Bluetooth, Wi-Fi   \n",
      "4      Fossil           Gen 6          Wear OS            Bluetooth, Wi-Fi   \n",
      "..        ...             ...              ...                         ...   \n",
      "374  Withings       ScanWatch      Withings OS            Bluetooth, Wi-Fi   \n",
      "375      Zepp               Z          Zepp OS  Bluetooth, Wi-Fi, Cellular   \n",
      "376     Honor    Watch GS Pro          Lite OS            Bluetooth, Wi-Fi   \n",
      "377      Oppo      Watch Free          ColorOS            Bluetooth, Wi-Fi   \n",
      "378  TicWatch           Pro 3          Wear OS  Bluetooth, Wi-Fi, Cellular   \n",
      "\n",
      "    Display Type  Display Size (inches) Resolution Water Resistance (meters)  \\\n",
      "0         Retina                   1.90  396 x 484                        50   \n",
      "1         AMOLED                   1.40  450 x 450                        50   \n",
      "2         AMOLED                   1.30  416 x 416                        50   \n",
      "3         AMOLED                   1.58  336 x 336                        50   \n",
      "4         AMOLED                   1.28  416 x 416                        30   \n",
      "..           ...                    ...        ...                       ...   \n",
      "374       PMOLED                   1.38  348 x 442                        50   \n",
      "375       AMOLED                   1.39  454 x 454                        50   \n",
      "376       AMOLED                   1.39  454 x 454                        50   \n",
      "377       AMOLED                   1.64  326 x 326                        50   \n",
      "378       AMOLED                   1.40  454 x 454                        50   \n",
      "\n",
      "    Battery Life (days) Heart Rate Monitor  GPS  NFC Price (USD)  \n",
      "0                    18                Yes  Yes  Yes        399   \n",
      "1                    40                Yes  Yes  Yes        249   \n",
      "2                    11                Yes  Yes   No        399   \n",
      "3                     6                Yes  Yes  Yes        229   \n",
      "4                    24                Yes  Yes  Yes        299   \n",
      "..                  ...                ...  ...  ...         ...  \n",
      "374                  30                Yes   No  Yes        279   \n",
      "375                  15                Yes  Yes  Yes        349   \n",
      "376                  25                Yes  Yes  Yes        249   \n",
      "377                  14                Yes   No  Yes        159   \n",
      "378                  72                Yes  Yes  Yes        299   \n",
      "\n",
      "[379 rows x 13 columns]\n"
     ]
    }
   ],
   "source": [
    "print(data)"
   ]
  },
  {
   "cell_type": "code",
   "execution_count": 8,
   "metadata": {
    "colab": {
     "base_uri": "https://localhost:8080/"
    },
    "id": "MJR_ngQEAFSz",
    "outputId": "03bce603-618c-43a1-8d8b-77a258ce2764"
   },
   "outputs": [
    {
     "name": "stdout",
     "output_type": "stream",
     "text": [
      "<class 'pandas.core.frame.DataFrame'>\n",
      "RangeIndex: 379 entries, 0 to 378\n",
      "Data columns (total 13 columns):\n",
      " #   Column                     Non-Null Count  Dtype  \n",
      "---  ------                     --------------  -----  \n",
      " 0   Brand                      378 non-null    object \n",
      " 1   Model                      378 non-null    object \n",
      " 2   Operating System           376 non-null    object \n",
      " 3   Connectivity               378 non-null    object \n",
      " 4   Display Type               377 non-null    object \n",
      " 5   Display Size (inches)      376 non-null    float64\n",
      " 6   Resolution                 375 non-null    object \n",
      " 7   Water Resistance (meters)  378 non-null    object \n",
      " 8   Battery Life (days)        378 non-null    object \n",
      " 9   Heart Rate Monitor         378 non-null    object \n",
      " 10  GPS                        378 non-null    object \n",
      " 11  NFC                        378 non-null    object \n",
      " 12  Price (USD)                378 non-null    object \n",
      "dtypes: float64(1), object(12)\n",
      "memory usage: 38.6+ KB\n"
     ]
    }
   ],
   "source": [
    "data.info()"
   ]
  },
  {
   "cell_type": "code",
   "execution_count": 9,
   "metadata": {
    "id": "iFCu2N4YuhfQ"
   },
   "outputs": [],
   "source": [
    "\n",
    "# Supongamos que 'data' es tu DataFrame\n",
    "columna_categorica = 'Price (USD)'\n",
    "columna_numerica = 'Price'\n",
    "\n",
    "# Crea una nueva columna numérica y copia los valores de la columna categórica\n",
    "data[columna_numerica] = pd.to_numeric(data[columna_categorica], errors='coerce')\n",
    "\n",
    "# Elimina la columna categórica original\n",
    "data.drop(columna_categorica, axis=1, inplace=True)"
   ]
  },
  {
   "cell_type": "code",
   "execution_count": 10,
   "metadata": {
    "colab": {
     "base_uri": "https://localhost:8080/"
    },
    "id": "VpbiDOZmjHzw",
    "outputId": "d2a59561-b466-44ed-90d0-eec2856dc18d"
   },
   "outputs": [
    {
     "name": "stdout",
     "output_type": "stream",
     "text": [
      "<class 'pandas.core.frame.DataFrame'>\n",
      "RangeIndex: 379 entries, 0 to 378\n",
      "Data columns (total 13 columns):\n",
      " #   Column                     Non-Null Count  Dtype  \n",
      "---  ------                     --------------  -----  \n",
      " 0   Brand                      378 non-null    object \n",
      " 1   Model                      378 non-null    object \n",
      " 2   Operating System           376 non-null    object \n",
      " 3   Connectivity               378 non-null    object \n",
      " 4   Display Type               377 non-null    object \n",
      " 5   Display Size (inches)      376 non-null    float64\n",
      " 6   Resolution                 375 non-null    object \n",
      " 7   Water Resistance (meters)  378 non-null    object \n",
      " 8   Battery Life (days)        378 non-null    object \n",
      " 9   Heart Rate Monitor         378 non-null    object \n",
      " 10  GPS                        378 non-null    object \n",
      " 11  NFC                        378 non-null    object \n",
      " 12  Price                      372 non-null    float64\n",
      "dtypes: float64(2), object(11)\n",
      "memory usage: 38.6+ KB\n"
     ]
    }
   ],
   "source": [
    "data.info()"
   ]
  },
  {
   "cell_type": "code",
   "execution_count": 11,
   "metadata": {
    "id": "sFmWfM7Mjn9Z"
   },
   "outputs": [],
   "source": [
    "#variables categoricas\n",
    "columnas_categoricas = data.select_dtypes(include=['object']).columns\n",
    "#variables fechas\n",
    "columnas_fechas = data.select_dtypes(include=['datetime64']).columns"
   ]
  },
  {
   "cell_type": "code",
   "execution_count": 12,
   "metadata": {
    "id": "GcxRaOoqkOyD"
   },
   "outputs": [],
   "source": [
    "#Procesamiento de frases o palabras\n",
    "for columna in columnas_categoricas:\n",
    "  le = LabelEncoder()\n",
    "  data[columna] = le.fit_transform(data[columna])"
   ]
  },
  {
   "cell_type": "code",
   "execution_count": 13,
   "metadata": {
    "id": "hVuep7WXkQvA"
   },
   "outputs": [],
   "source": [
    "#Fechas a numeros\n",
    "for columna in columnas_fechas:\n",
    "  data[columna] = pd.to_numeric(data[columna].map(datetime.timestamp))"
   ]
  },
  {
   "cell_type": "code",
   "execution_count": 14,
   "metadata": {
    "colab": {
     "base_uri": "https://localhost:8080/"
    },
    "id": "vHzN_Uj0kS96",
    "outputId": "cb79dfc5-7788-4a43-91d7-9326159be097"
   },
   "outputs": [
    {
     "name": "stdout",
     "output_type": "stream",
     "text": [
      "     Brand  Model  Operating System  Connectivity  Display Type  \\\n",
      "0        1    127                34             2            17   \n",
      "1       30     36                31             2             0   \n",
      "2        8    105                 9             1             0   \n",
      "3        6    109                 7             1             0   \n",
      "4        7     43                31             1             0   \n",
      "..     ...    ...               ...           ...           ...   \n",
      "374     38     79                32             1            16   \n",
      "375     41    132                33             2             0   \n",
      "376      9    119                12             1             0   \n",
      "377     26    118                 5             1             0   \n",
      "378     35     71                31             2             0   \n",
      "\n",
      "     Display Size (inches)  Resolution  Water Resistance (meters)  \\\n",
      "0                     1.90          27                          5   \n",
      "1                     1.40          31                          5   \n",
      "2                     1.30          30                          5   \n",
      "3                     1.58          19                          5   \n",
      "4                     1.28          30                          4   \n",
      "..                     ...         ...                        ...   \n",
      "374                   1.38          21                          5   \n",
      "375                   1.39          32                          5   \n",
      "376                   1.39          32                          5   \n",
      "377                   1.64          17                          5   \n",
      "378                   1.40          32                          5   \n",
      "\n",
      "     Battery Life (days)  Heart Rate Monitor  GPS  NFC  Price  \n",
      "0                      8                   0    1    1  399.0  \n",
      "1                     16                   0    1    1  249.0  \n",
      "2                      3                   0    1    0  399.0  \n",
      "3                     22                   0    1    1  229.0  \n",
      "4                     11                   0    1    1  299.0  \n",
      "..                   ...                 ...  ...  ...    ...  \n",
      "374                   14                   0    0    1  279.0  \n",
      "375                    6                   0    1    1  349.0  \n",
      "376                   12                   0    1    1  249.0  \n",
      "377                    5                   0    0    1  159.0  \n",
      "378                   26                   0    1    1  299.0  \n",
      "\n",
      "[379 rows x 13 columns]\n"
     ]
    }
   ],
   "source": [
    "#resultado\n",
    "print(data)"
   ]
  },
  {
   "cell_type": "code",
   "execution_count": 15,
   "metadata": {
    "colab": {
     "base_uri": "https://localhost:8080/"
    },
    "id": "tJ9GFsACksGy",
    "outputId": "96f6acaa-d10f-439f-9aa2-e9c81b7f7e75"
   },
   "outputs": [
    {
     "name": "stdout",
     "output_type": "stream",
     "text": [
      "<class 'pandas.core.frame.DataFrame'>\n",
      "RangeIndex: 379 entries, 0 to 378\n",
      "Data columns (total 13 columns):\n",
      " #   Column                     Non-Null Count  Dtype  \n",
      "---  ------                     --------------  -----  \n",
      " 0   Brand                      379 non-null    int32  \n",
      " 1   Model                      379 non-null    int32  \n",
      " 2   Operating System           379 non-null    int32  \n",
      " 3   Connectivity               379 non-null    int32  \n",
      " 4   Display Type               379 non-null    int32  \n",
      " 5   Display Size (inches)      376 non-null    float64\n",
      " 6   Resolution                 379 non-null    int32  \n",
      " 7   Water Resistance (meters)  379 non-null    int32  \n",
      " 8   Battery Life (days)        379 non-null    int32  \n",
      " 9   Heart Rate Monitor         379 non-null    int32  \n",
      " 10  GPS                        379 non-null    int32  \n",
      " 11  NFC                        379 non-null    int32  \n",
      " 12  Price                      372 non-null    float64\n",
      "dtypes: float64(2), int32(11)\n",
      "memory usage: 22.3 KB\n"
     ]
    }
   ],
   "source": [
    "data.info()"
   ]
  },
  {
   "cell_type": "code",
   "execution_count": 16,
   "metadata": {
    "id": "aL01HjE1tMNP"
   },
   "outputs": [],
   "source": [
    "#llenar datos vacios\n",
    "columnas_especificas = ['Price', 'Display Size (inches)']\n",
    "media_columnas = data[columnas_especificas].mean()\n",
    "data[columnas_especificas] = data[columnas_especificas].fillna(media_columnas)"
   ]
  },
  {
   "cell_type": "code",
   "execution_count": 17,
   "metadata": {
    "colab": {
     "base_uri": "https://localhost:8080/"
    },
    "id": "IZheY0q7lvQg",
    "outputId": "b8a91a33-5721-4415-9ac8-a4d78312bcc3"
   },
   "outputs": [
    {
     "name": "stdout",
     "output_type": "stream",
     "text": [
      "<class 'pandas.core.frame.DataFrame'>\n",
      "RangeIndex: 379 entries, 0 to 378\n",
      "Data columns (total 13 columns):\n",
      " #   Column                     Non-Null Count  Dtype  \n",
      "---  ------                     --------------  -----  \n",
      " 0   Brand                      379 non-null    int32  \n",
      " 1   Model                      379 non-null    int32  \n",
      " 2   Operating System           379 non-null    int32  \n",
      " 3   Connectivity               379 non-null    int32  \n",
      " 4   Display Type               379 non-null    int32  \n",
      " 5   Display Size (inches)      379 non-null    float64\n",
      " 6   Resolution                 379 non-null    int32  \n",
      " 7   Water Resistance (meters)  379 non-null    int32  \n",
      " 8   Battery Life (days)        379 non-null    int32  \n",
      " 9   Heart Rate Monitor         379 non-null    int32  \n",
      " 10  GPS                        379 non-null    int32  \n",
      " 11  NFC                        379 non-null    int32  \n",
      " 12  Price                      379 non-null    float64\n",
      "dtypes: float64(2), int32(11)\n",
      "memory usage: 22.3 KB\n"
     ]
    }
   ],
   "source": [
    "data.info()"
   ]
  },
  {
   "cell_type": "code",
   "execution_count": 18,
   "metadata": {
    "id": "YuuRUXgCwvZ_"
   },
   "outputs": [],
   "source": [
    "# Lectura de Datos\n",
    "X = data.iloc[:, :12]\n",
    "y = data.iloc[:, 12]\n",
    "m = y.size"
   ]
  },
  {
   "cell_type": "code",
   "execution_count": 19,
   "metadata": {
    "colab": {
     "base_uri": "https://localhost:8080/"
    },
    "id": "x1NBC6A6xFoC",
    "outputId": "0e2caa9a-a991-4417-d407-eaadb6e0551c"
   },
   "outputs": [
    {
     "name": "stdout",
     "output_type": "stream",
     "text": [
      "     Brand  Model  Operating System  Connectivity  Display Type  \\\n",
      "0        1    127                34             2            17   \n",
      "1       30     36                31             2             0   \n",
      "2        8    105                 9             1             0   \n",
      "3        6    109                 7             1             0   \n",
      "4        7     43                31             1             0   \n",
      "..     ...    ...               ...           ...           ...   \n",
      "374     38     79                32             1            16   \n",
      "375     41    132                33             2             0   \n",
      "376      9    119                12             1             0   \n",
      "377     26    118                 5             1             0   \n",
      "378     35     71                31             2             0   \n",
      "\n",
      "     Display Size (inches)  Resolution  Water Resistance (meters)  \\\n",
      "0                     1.90          27                          5   \n",
      "1                     1.40          31                          5   \n",
      "2                     1.30          30                          5   \n",
      "3                     1.58          19                          5   \n",
      "4                     1.28          30                          4   \n",
      "..                     ...         ...                        ...   \n",
      "374                   1.38          21                          5   \n",
      "375                   1.39          32                          5   \n",
      "376                   1.39          32                          5   \n",
      "377                   1.64          17                          5   \n",
      "378                   1.40          32                          5   \n",
      "\n",
      "     Battery Life (days)  Heart Rate Monitor  GPS  NFC  \n",
      "0                      8                   0    1    1  \n",
      "1                     16                   0    1    1  \n",
      "2                      3                   0    1    0  \n",
      "3                     22                   0    1    1  \n",
      "4                     11                   0    1    1  \n",
      "..                   ...                 ...  ...  ...  \n",
      "374                   14                   0    0    1  \n",
      "375                    6                   0    1    1  \n",
      "376                   12                   0    1    1  \n",
      "377                    5                   0    0    1  \n",
      "378                   26                   0    1    1  \n",
      "\n",
      "[379 rows x 12 columns]\n",
      "*************************\n",
      "0      399.0\n",
      "1      249.0\n",
      "2      399.0\n",
      "3      229.0\n",
      "4      299.0\n",
      "       ...  \n",
      "374    279.0\n",
      "375    349.0\n",
      "376    249.0\n",
      "377    159.0\n",
      "378    299.0\n",
      "Name: Price, Length: 379, dtype: float64\n"
     ]
    }
   ],
   "source": [
    "print(X)\n",
    "print('*'*25)\n",
    "print(y)"
   ]
  },
  {
   "cell_type": "code",
   "execution_count": 20,
   "metadata": {
    "id": "EB4cCmdm4bxJ"
   },
   "outputs": [],
   "source": [
    "# Añade el termino de interseccion a X\n",
    "# (Columna de unos para X0)\n",
    "X = np.concatenate([np.ones((m, 1)), X], axis=1)"
   ]
  },
  {
   "cell_type": "code",
   "execution_count": 21,
   "metadata": {
    "colab": {
     "base_uri": "https://localhost:8080/"
    },
    "id": "jxdWrQDC4fcD",
    "outputId": "65ab294f-31fe-4c6d-a6b3-b705239eb8b2"
   },
   "outputs": [
    {
     "name": "stdout",
     "output_type": "stream",
     "text": [
      "[[  1.   1. 127. ...   0.   1.   1.]\n",
      " [  1.  30.  36. ...   0.   1.   1.]\n",
      " [  1.   8. 105. ...   0.   1.   0.]\n",
      " ...\n",
      " [  1.   9. 119. ...   0.   1.   1.]\n",
      " [  1.  26. 118. ...   0.   0.   1.]\n",
      " [  1.  35.  71. ...   0.   1.   1.]]\n"
     ]
    }
   ],
   "source": [
    "print(X)"
   ]
  },
  {
   "cell_type": "code",
   "execution_count": 22,
   "metadata": {
    "id": "pHpGapUtf4QP"
   },
   "outputs": [],
   "source": [
    "X_array = [1, 2, 130, 32, 1, 17, 1.48, 29, 4, 12, 0, 1, 1]"
   ]
  },
  {
   "cell_type": "code",
   "execution_count": 23,
   "metadata": {
    "colab": {
     "base_uri": "https://localhost:8080/"
    },
    "id": "c_fhRmzof56K",
    "outputId": "ceb85157-d59b-40bf-920b-f4f74a4d5044"
   },
   "outputs": [
    {
     "data": {
      "text/plain": [
       "[2, 130, 32, 1, 17, 1.48, 29, 4, 12, 0, 1, 1]"
      ]
     },
     "execution_count": 23,
     "metadata": {},
     "output_type": "execute_result"
    }
   ],
   "source": [
    "X_array[1:13]"
   ]
  },
  {
   "cell_type": "code",
   "execution_count": 24,
   "metadata": {
    "id": "_MMoIdODf9FN"
   },
   "outputs": [],
   "source": [
    "def normalEqn(X, y):\n",
    "\n",
    "    theta = np.zeros(X.shape[1])\n",
    "\n",
    "    theta = np.dot(np.dot(np.linalg.inv(np.dot(X.T,X)),X.T),y)\n",
    "\n",
    "    return theta"
   ]
  },
  {
   "cell_type": "code",
   "execution_count": 25,
   "metadata": {
    "colab": {
     "base_uri": "https://localhost:8080/"
    },
    "id": "E7px4OMrf9un",
    "outputId": "f7346816-9f0c-49d6-8230-2b9b92670703"
   },
   "outputs": [
    {
     "name": "stdout",
     "output_type": "stream",
     "text": [
      "Theta calculado a partir de la ecuación de la normal: [351.41756009  -1.73375963  -0.63918384   1.5095825   19.69057974\n",
      "   3.38618598  83.30479077  -2.43386481 -49.00284191  -2.58375784\n",
      " -29.85108901 130.21313908  12.64119062]\n",
      "Precio predecido para una cada de superficie de 1650 sq-ft y 3 dormitorios (usando la ecuación de la normal): $359\n"
     ]
    }
   ],
   "source": [
    "# Calcula los parametros con la ecuación de la normal\n",
    "theta = normalEqn(X, y);\n",
    "\n",
    "# Muestra los resultados optenidos a partir de la aplicación de la ecuación de la normal\n",
    "print('Theta calculado a partir de la ecuación de la normal: {:s}'.format(str(theta)));\n",
    "\n",
    "# Estimar el precio para una casa de superficie de 1650 sq-ft y tres dormitorios\n",
    "\n",
    "X_array = [1, 2, 130, 32, 1, 17, 1.48, 29, 4, 12, 0, 1, 1]\n",
    "price = np.dot(X_array, theta)\n",
    "\n",
    "print('Precio predecido para una cada de superficie de 1650 sq-ft y 3 dormitorios (usando la ecuación de la normal): ${:.0f}'.format(price))"
   ]
  },
  {
   "cell_type": "code",
   "execution_count": null,
   "metadata": {},
   "outputs": [],
   "source": []
  }
 ],
 "metadata": {
  "colab": {
   "provenance": []
  },
  "kernelspec": {
   "display_name": "Python 3 (ipykernel)",
   "language": "python",
   "name": "python3"
  },
  "language_info": {
   "codemirror_mode": {
    "name": "ipython",
    "version": 3
   },
   "file_extension": ".py",
   "mimetype": "text/x-python",
   "name": "python",
   "nbconvert_exporter": "python",
   "pygments_lexer": "ipython3",
   "version": "3.11.4"
  }
 },
 "nbformat": 4,
 "nbformat_minor": 1
}
