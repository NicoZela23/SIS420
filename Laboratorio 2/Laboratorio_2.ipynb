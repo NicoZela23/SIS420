{
 "cells": [
  {
   "cell_type": "code",
   "execution_count": 1,
   "metadata": {
    "id": "qUxgZvq33-ID"
   },
   "outputs": [],
   "source": [
    "# utilizado para manejos de directorios y rutas\n",
    "import os\n",
    "\n",
    "# Computacion vectorial y cientifica para python\n",
    "import numpy as np\n",
    "\n",
    "# Librerias para graficación (trazado de gráficos)\n",
    "from matplotlib import pyplot\n",
    "from mpl_toolkits.mplot3d import Axes3D  # Necesario para graficar superficies 3D\n",
    "\n",
    "# llama a matplotlib a embeber graficas dentro de los cuadernillos\n",
    "%matplotlib inline"
   ]
  },
  {
   "cell_type": "code",
   "execution_count": 2,
   "metadata": {
    "id": "3zeLCpwjiQCT"
   },
   "outputs": [],
   "source": [
    "import pandas as pd\n",
    "from sklearn.preprocessing import LabelEncoder\n",
    "from datetime import datetime"
   ]
  },
  {
   "cell_type": "code",
   "execution_count": 3,
   "metadata": {
    "id": "V0ZXOA-6iUmV"
   },
   "outputs": [],
   "source": [
    "#Carga de dataset\n",
    "data = pd.read_csv('Smart watch prices.csv')"
   ]
  },
  {
   "cell_type": "code",
   "execution_count": 4,
   "metadata": {
    "colab": {
     "base_uri": "https://localhost:8080/"
    },
    "id": "h325dVhXicrs",
    "outputId": "8ebb530b-64d6-4f4d-f0d6-e52c0fa6d3f3"
   },
   "outputs": [
    {
     "name": "stdout",
     "output_type": "stream",
     "text": [
      "        Brand           Model Operating System                Connectivity  \\\n",
      "0       Apple  Watch Series 7          watchOS  Bluetooth, Wi-Fi, Cellular   \n",
      "1     Samsung  Galaxy Watch 4          Wear OS  Bluetooth, Wi-Fi, Cellular   \n",
      "2      Garmin          Venu 2        Garmin OS            Bluetooth, Wi-Fi   \n",
      "3      Fitbit         Versa 3        Fitbit OS            Bluetooth, Wi-Fi   \n",
      "4      Fossil           Gen 6          Wear OS            Bluetooth, Wi-Fi   \n",
      "..        ...             ...              ...                         ...   \n",
      "374  Withings       ScanWatch      Withings OS            Bluetooth, Wi-Fi   \n",
      "375      Zepp               Z          Zepp OS  Bluetooth, Wi-Fi, Cellular   \n",
      "376     Honor    Watch GS Pro          Lite OS            Bluetooth, Wi-Fi   \n",
      "377      Oppo      Watch Free          ColorOS            Bluetooth, Wi-Fi   \n",
      "378  TicWatch           Pro 3          Wear OS  Bluetooth, Wi-Fi, Cellular   \n",
      "\n",
      "    Display Type  Display Size (inches) Resolution Water Resistance (meters)  \\\n",
      "0         Retina                   1.90  396 x 484                        50   \n",
      "1         AMOLED                   1.40  450 x 450                        50   \n",
      "2         AMOLED                   1.30  416 x 416                        50   \n",
      "3         AMOLED                   1.58  336 x 336                        50   \n",
      "4         AMOLED                   1.28  416 x 416                        30   \n",
      "..           ...                    ...        ...                       ...   \n",
      "374       PMOLED                   1.38  348 x 442                        50   \n",
      "375       AMOLED                   1.39  454 x 454                        50   \n",
      "376       AMOLED                   1.39  454 x 454                        50   \n",
      "377       AMOLED                   1.64  326 x 326                        50   \n",
      "378       AMOLED                   1.40  454 x 454                        50   \n",
      "\n",
      "    Battery Life (days) Heart Rate Monitor  GPS  NFC Price (USD)  \n",
      "0                    18                Yes  Yes  Yes       $399   \n",
      "1                    40                Yes  Yes  Yes       $249   \n",
      "2                    11                Yes  Yes   No       $399   \n",
      "3                     6                Yes  Yes  Yes       $229   \n",
      "4                    24                Yes  Yes  Yes       $299   \n",
      "..                  ...                ...  ...  ...         ...  \n",
      "374                  30                Yes   No  Yes       $279   \n",
      "375                  15                Yes  Yes  Yes       $349   \n",
      "376                  25                Yes  Yes  Yes       $249   \n",
      "377                  14                Yes   No  Yes       $159   \n",
      "378                  72                Yes  Yes  Yes       $299   \n",
      "\n",
      "[379 rows x 13 columns]\n"
     ]
    }
   ],
   "source": [
    "print(data)"
   ]
  },
  {
   "cell_type": "code",
   "execution_count": 5,
   "metadata": {
    "colab": {
     "base_uri": "https://localhost:8080/"
    },
    "id": "ZoYIJwRyifh-",
    "outputId": "fa68e01d-c097-48de-928f-908c174de173"
   },
   "outputs": [
    {
     "name": "stdout",
     "output_type": "stream",
     "text": [
      "<class 'pandas.core.frame.DataFrame'>\n",
      "RangeIndex: 379 entries, 0 to 378\n",
      "Data columns (total 13 columns):\n",
      " #   Column                     Non-Null Count  Dtype  \n",
      "---  ------                     --------------  -----  \n",
      " 0   Brand                      378 non-null    object \n",
      " 1   Model                      378 non-null    object \n",
      " 2   Operating System           376 non-null    object \n",
      " 3   Connectivity               378 non-null    object \n",
      " 4   Display Type               377 non-null    object \n",
      " 5   Display Size (inches)      376 non-null    float64\n",
      " 6   Resolution                 375 non-null    object \n",
      " 7   Water Resistance (meters)  378 non-null    object \n",
      " 8   Battery Life (days)        378 non-null    object \n",
      " 9   Heart Rate Monitor         378 non-null    object \n",
      " 10  GPS                        378 non-null    object \n",
      " 11  NFC                        378 non-null    object \n",
      " 12  Price (USD)                378 non-null    object \n",
      "dtypes: float64(1), object(12)\n",
      "memory usage: 38.6+ KB\n"
     ]
    }
   ],
   "source": [
    "data.info()"
   ]
  },
  {
   "cell_type": "code",
   "execution_count": 6,
   "metadata": {
    "id": "HcW3ITuoi4aw"
   },
   "outputs": [],
   "source": [
    "columnas_eliminar = ['Price (USD)']\n",
    "simbolo = '$'\n",
    "\n",
    "for columna in columnas_eliminar:\n",
    "    data[columna] = data[columna].str.replace(simbolo, '', regex=False)"
   ]
  },
  {
   "cell_type": "code",
   "execution_count": 7,
   "metadata": {
    "colab": {
     "base_uri": "https://localhost:8080/"
    },
    "id": "CDcJv73OABpB",
    "outputId": "9d0fd490-2908-452f-a9ab-daa047272e3c"
   },
   "outputs": [
    {
     "name": "stdout",
     "output_type": "stream",
     "text": [
      "        Brand           Model Operating System                Connectivity  \\\n",
      "0       Apple  Watch Series 7          watchOS  Bluetooth, Wi-Fi, Cellular   \n",
      "1     Samsung  Galaxy Watch 4          Wear OS  Bluetooth, Wi-Fi, Cellular   \n",
      "2      Garmin          Venu 2        Garmin OS            Bluetooth, Wi-Fi   \n",
      "3      Fitbit         Versa 3        Fitbit OS            Bluetooth, Wi-Fi   \n",
      "4      Fossil           Gen 6          Wear OS            Bluetooth, Wi-Fi   \n",
      "..        ...             ...              ...                         ...   \n",
      "374  Withings       ScanWatch      Withings OS            Bluetooth, Wi-Fi   \n",
      "375      Zepp               Z          Zepp OS  Bluetooth, Wi-Fi, Cellular   \n",
      "376     Honor    Watch GS Pro          Lite OS            Bluetooth, Wi-Fi   \n",
      "377      Oppo      Watch Free          ColorOS            Bluetooth, Wi-Fi   \n",
      "378  TicWatch           Pro 3          Wear OS  Bluetooth, Wi-Fi, Cellular   \n",
      "\n",
      "    Display Type  Display Size (inches) Resolution Water Resistance (meters)  \\\n",
      "0         Retina                   1.90  396 x 484                        50   \n",
      "1         AMOLED                   1.40  450 x 450                        50   \n",
      "2         AMOLED                   1.30  416 x 416                        50   \n",
      "3         AMOLED                   1.58  336 x 336                        50   \n",
      "4         AMOLED                   1.28  416 x 416                        30   \n",
      "..           ...                    ...        ...                       ...   \n",
      "374       PMOLED                   1.38  348 x 442                        50   \n",
      "375       AMOLED                   1.39  454 x 454                        50   \n",
      "376       AMOLED                   1.39  454 x 454                        50   \n",
      "377       AMOLED                   1.64  326 x 326                        50   \n",
      "378       AMOLED                   1.40  454 x 454                        50   \n",
      "\n",
      "    Battery Life (days) Heart Rate Monitor  GPS  NFC Price (USD)  \n",
      "0                    18                Yes  Yes  Yes        399   \n",
      "1                    40                Yes  Yes  Yes        249   \n",
      "2                    11                Yes  Yes   No        399   \n",
      "3                     6                Yes  Yes  Yes        229   \n",
      "4                    24                Yes  Yes  Yes        299   \n",
      "..                  ...                ...  ...  ...         ...  \n",
      "374                  30                Yes   No  Yes        279   \n",
      "375                  15                Yes  Yes  Yes        349   \n",
      "376                  25                Yes  Yes  Yes        249   \n",
      "377                  14                Yes   No  Yes        159   \n",
      "378                  72                Yes  Yes  Yes        299   \n",
      "\n",
      "[379 rows x 13 columns]\n"
     ]
    }
   ],
   "source": [
    "print(data)"
   ]
  },
  {
   "cell_type": "code",
   "execution_count": 8,
   "metadata": {
    "colab": {
     "base_uri": "https://localhost:8080/"
    },
    "id": "MJR_ngQEAFSz",
    "outputId": "03bce603-618c-43a1-8d8b-77a258ce2764"
   },
   "outputs": [
    {
     "name": "stdout",
     "output_type": "stream",
     "text": [
      "<class 'pandas.core.frame.DataFrame'>\n",
      "RangeIndex: 379 entries, 0 to 378\n",
      "Data columns (total 13 columns):\n",
      " #   Column                     Non-Null Count  Dtype  \n",
      "---  ------                     --------------  -----  \n",
      " 0   Brand                      378 non-null    object \n",
      " 1   Model                      378 non-null    object \n",
      " 2   Operating System           376 non-null    object \n",
      " 3   Connectivity               378 non-null    object \n",
      " 4   Display Type               377 non-null    object \n",
      " 5   Display Size (inches)      376 non-null    float64\n",
      " 6   Resolution                 375 non-null    object \n",
      " 7   Water Resistance (meters)  378 non-null    object \n",
      " 8   Battery Life (days)        378 non-null    object \n",
      " 9   Heart Rate Monitor         378 non-null    object \n",
      " 10  GPS                        378 non-null    object \n",
      " 11  NFC                        378 non-null    object \n",
      " 12  Price (USD)                378 non-null    object \n",
      "dtypes: float64(1), object(12)\n",
      "memory usage: 38.6+ KB\n"
     ]
    }
   ],
   "source": [
    "data.info()"
   ]
  },
  {
   "cell_type": "code",
   "execution_count": 9,
   "metadata": {
    "id": "iFCu2N4YuhfQ"
   },
   "outputs": [],
   "source": [
    "\n",
    "# Supongamos que 'data' es tu DataFrame\n",
    "columna_categorica = 'Price (USD)'\n",
    "columna_numerica = 'Price'\n",
    "\n",
    "# Crea una nueva columna numérica y copia los valores de la columna categórica\n",
    "data[columna_numerica] = pd.to_numeric(data[columna_categorica], errors='coerce')\n",
    "\n",
    "# Elimina la columna categórica original\n",
    "data.drop(columna_categorica, axis=1, inplace=True)"
   ]
  },
  {
   "cell_type": "code",
   "execution_count": 10,
   "metadata": {
    "colab": {
     "base_uri": "https://localhost:8080/"
    },
    "id": "VpbiDOZmjHzw",
    "outputId": "d2a59561-b466-44ed-90d0-eec2856dc18d"
   },
   "outputs": [
    {
     "name": "stdout",
     "output_type": "stream",
     "text": [
      "<class 'pandas.core.frame.DataFrame'>\n",
      "RangeIndex: 379 entries, 0 to 378\n",
      "Data columns (total 13 columns):\n",
      " #   Column                     Non-Null Count  Dtype  \n",
      "---  ------                     --------------  -----  \n",
      " 0   Brand                      378 non-null    object \n",
      " 1   Model                      378 non-null    object \n",
      " 2   Operating System           376 non-null    object \n",
      " 3   Connectivity               378 non-null    object \n",
      " 4   Display Type               377 non-null    object \n",
      " 5   Display Size (inches)      376 non-null    float64\n",
      " 6   Resolution                 375 non-null    object \n",
      " 7   Water Resistance (meters)  378 non-null    object \n",
      " 8   Battery Life (days)        378 non-null    object \n",
      " 9   Heart Rate Monitor         378 non-null    object \n",
      " 10  GPS                        378 non-null    object \n",
      " 11  NFC                        378 non-null    object \n",
      " 12  Price                      372 non-null    float64\n",
      "dtypes: float64(2), object(11)\n",
      "memory usage: 38.6+ KB\n"
     ]
    }
   ],
   "source": [
    "data.info()"
   ]
  },
  {
   "cell_type": "code",
   "execution_count": 11,
   "metadata": {
    "id": "sFmWfM7Mjn9Z"
   },
   "outputs": [],
   "source": [
    "#variables categoricas\n",
    "columnas_categoricas = data.select_dtypes(include=['object']).columns\n",
    "#variables fechas\n",
    "columnas_fechas = data.select_dtypes(include=['datetime64']).columns"
   ]
  },
  {
   "cell_type": "code",
   "execution_count": 12,
   "metadata": {
    "id": "GcxRaOoqkOyD"
   },
   "outputs": [],
   "source": [
    "#Procesamiento de frases o palabras\n",
    "for columna in columnas_categoricas:\n",
    "  le = LabelEncoder()\n",
    "  data[columna] = le.fit_transform(data[columna])"
   ]
  },
  {
   "cell_type": "code",
   "execution_count": 13,
   "metadata": {
    "id": "hVuep7WXkQvA"
   },
   "outputs": [],
   "source": [
    "#Fechas a numeros\n",
    "for columna in columnas_fechas:\n",
    "  data[columna] = pd.to_numeric(data[columna].map(datetime.timestamp))"
   ]
  },
  {
   "cell_type": "code",
   "execution_count": 14,
   "metadata": {
    "colab": {
     "base_uri": "https://localhost:8080/"
    },
    "id": "vHzN_Uj0kS96",
    "outputId": "cb79dfc5-7788-4a43-91d7-9326159be097"
   },
   "outputs": [
    {
     "name": "stdout",
     "output_type": "stream",
     "text": [
      "     Brand  Model  Operating System  Connectivity  Display Type  \\\n",
      "0        1    127                34             2            17   \n",
      "1       30     36                31             2             0   \n",
      "2        8    105                 9             1             0   \n",
      "3        6    109                 7             1             0   \n",
      "4        7     43                31             1             0   \n",
      "..     ...    ...               ...           ...           ...   \n",
      "374     38     79                32             1            16   \n",
      "375     41    132                33             2             0   \n",
      "376      9    119                12             1             0   \n",
      "377     26    118                 5             1             0   \n",
      "378     35     71                31             2             0   \n",
      "\n",
      "     Display Size (inches)  Resolution  Water Resistance (meters)  \\\n",
      "0                     1.90          27                          5   \n",
      "1                     1.40          31                          5   \n",
      "2                     1.30          30                          5   \n",
      "3                     1.58          19                          5   \n",
      "4                     1.28          30                          4   \n",
      "..                     ...         ...                        ...   \n",
      "374                   1.38          21                          5   \n",
      "375                   1.39          32                          5   \n",
      "376                   1.39          32                          5   \n",
      "377                   1.64          17                          5   \n",
      "378                   1.40          32                          5   \n",
      "\n",
      "     Battery Life (days)  Heart Rate Monitor  GPS  NFC  Price  \n",
      "0                      8                   0    1    1  399.0  \n",
      "1                     16                   0    1    1  249.0  \n",
      "2                      3                   0    1    0  399.0  \n",
      "3                     22                   0    1    1  229.0  \n",
      "4                     11                   0    1    1  299.0  \n",
      "..                   ...                 ...  ...  ...    ...  \n",
      "374                   14                   0    0    1  279.0  \n",
      "375                    6                   0    1    1  349.0  \n",
      "376                   12                   0    1    1  249.0  \n",
      "377                    5                   0    0    1  159.0  \n",
      "378                   26                   0    1    1  299.0  \n",
      "\n",
      "[379 rows x 13 columns]\n"
     ]
    }
   ],
   "source": [
    "#resultado\n",
    "print(data)"
   ]
  },
  {
   "cell_type": "code",
   "execution_count": 15,
   "metadata": {
    "colab": {
     "base_uri": "https://localhost:8080/"
    },
    "id": "tJ9GFsACksGy",
    "outputId": "96f6acaa-d10f-439f-9aa2-e9c81b7f7e75"
   },
   "outputs": [
    {
     "name": "stdout",
     "output_type": "stream",
     "text": [
      "<class 'pandas.core.frame.DataFrame'>\n",
      "RangeIndex: 379 entries, 0 to 378\n",
      "Data columns (total 13 columns):\n",
      " #   Column                     Non-Null Count  Dtype  \n",
      "---  ------                     --------------  -----  \n",
      " 0   Brand                      379 non-null    int32  \n",
      " 1   Model                      379 non-null    int32  \n",
      " 2   Operating System           379 non-null    int32  \n",
      " 3   Connectivity               379 non-null    int32  \n",
      " 4   Display Type               379 non-null    int32  \n",
      " 5   Display Size (inches)      376 non-null    float64\n",
      " 6   Resolution                 379 non-null    int32  \n",
      " 7   Water Resistance (meters)  379 non-null    int32  \n",
      " 8   Battery Life (days)        379 non-null    int32  \n",
      " 9   Heart Rate Monitor         379 non-null    int32  \n",
      " 10  GPS                        379 non-null    int32  \n",
      " 11  NFC                        379 non-null    int32  \n",
      " 12  Price                      372 non-null    float64\n",
      "dtypes: float64(2), int32(11)\n",
      "memory usage: 22.3 KB\n"
     ]
    }
   ],
   "source": [
    "data.info()"
   ]
  },
  {
   "cell_type": "code",
   "execution_count": 16,
   "metadata": {
    "id": "aL01HjE1tMNP"
   },
   "outputs": [],
   "source": [
    "#llenar datos vacios\n",
    "columnas_especificas = ['Price', 'Display Size (inches)']\n",
    "media_columnas = data[columnas_especificas].mean()\n",
    "data[columnas_especificas] = data[columnas_especificas].fillna(media_columnas)"
   ]
  },
  {
   "cell_type": "code",
   "execution_count": 17,
   "metadata": {
    "colab": {
     "base_uri": "https://localhost:8080/"
    },
    "id": "IZheY0q7lvQg",
    "outputId": "b8a91a33-5721-4415-9ac8-a4d78312bcc3"
   },
   "outputs": [
    {
     "name": "stdout",
     "output_type": "stream",
     "text": [
      "<class 'pandas.core.frame.DataFrame'>\n",
      "RangeIndex: 379 entries, 0 to 378\n",
      "Data columns (total 13 columns):\n",
      " #   Column                     Non-Null Count  Dtype  \n",
      "---  ------                     --------------  -----  \n",
      " 0   Brand                      379 non-null    int32  \n",
      " 1   Model                      379 non-null    int32  \n",
      " 2   Operating System           379 non-null    int32  \n",
      " 3   Connectivity               379 non-null    int32  \n",
      " 4   Display Type               379 non-null    int32  \n",
      " 5   Display Size (inches)      379 non-null    float64\n",
      " 6   Resolution                 379 non-null    int32  \n",
      " 7   Water Resistance (meters)  379 non-null    int32  \n",
      " 8   Battery Life (days)        379 non-null    int32  \n",
      " 9   Heart Rate Monitor         379 non-null    int32  \n",
      " 10  GPS                        379 non-null    int32  \n",
      " 11  NFC                        379 non-null    int32  \n",
      " 12  Price                      379 non-null    float64\n",
      "dtypes: float64(2), int32(11)\n",
      "memory usage: 22.3 KB\n"
     ]
    }
   ],
   "source": [
    "data.info()"
   ]
  },
  {
   "cell_type": "code",
   "execution_count": 18,
   "metadata": {
    "id": "YuuRUXgCwvZ_"
   },
   "outputs": [],
   "source": [
    "# Lectura de Datos\n",
    "X = data.iloc[:, :12]\n",
    "y = data.iloc[:, 12]\n",
    "m = y.size"
   ]
  },
  {
   "cell_type": "code",
   "execution_count": 19,
   "metadata": {
    "colab": {
     "base_uri": "https://localhost:8080/"
    },
    "id": "x1NBC6A6xFoC",
    "outputId": "0e2caa9a-a991-4417-d407-eaadb6e0551c"
   },
   "outputs": [
    {
     "name": "stdout",
     "output_type": "stream",
     "text": [
      "     Brand  Model  Operating System  Connectivity  Display Type  \\\n",
      "0        1    127                34             2            17   \n",
      "1       30     36                31             2             0   \n",
      "2        8    105                 9             1             0   \n",
      "3        6    109                 7             1             0   \n",
      "4        7     43                31             1             0   \n",
      "..     ...    ...               ...           ...           ...   \n",
      "374     38     79                32             1            16   \n",
      "375     41    132                33             2             0   \n",
      "376      9    119                12             1             0   \n",
      "377     26    118                 5             1             0   \n",
      "378     35     71                31             2             0   \n",
      "\n",
      "     Display Size (inches)  Resolution  Water Resistance (meters)  \\\n",
      "0                     1.90          27                          5   \n",
      "1                     1.40          31                          5   \n",
      "2                     1.30          30                          5   \n",
      "3                     1.58          19                          5   \n",
      "4                     1.28          30                          4   \n",
      "..                     ...         ...                        ...   \n",
      "374                   1.38          21                          5   \n",
      "375                   1.39          32                          5   \n",
      "376                   1.39          32                          5   \n",
      "377                   1.64          17                          5   \n",
      "378                   1.40          32                          5   \n",
      "\n",
      "     Battery Life (days)  Heart Rate Monitor  GPS  NFC  \n",
      "0                      8                   0    1    1  \n",
      "1                     16                   0    1    1  \n",
      "2                      3                   0    1    0  \n",
      "3                     22                   0    1    1  \n",
      "4                     11                   0    1    1  \n",
      "..                   ...                 ...  ...  ...  \n",
      "374                   14                   0    0    1  \n",
      "375                    6                   0    1    1  \n",
      "376                   12                   0    1    1  \n",
      "377                    5                   0    0    1  \n",
      "378                   26                   0    1    1  \n",
      "\n",
      "[379 rows x 12 columns]\n",
      "*************************\n",
      "0      399.0\n",
      "1      249.0\n",
      "2      399.0\n",
      "3      229.0\n",
      "4      299.0\n",
      "       ...  \n",
      "374    279.0\n",
      "375    349.0\n",
      "376    249.0\n",
      "377    159.0\n",
      "378    299.0\n",
      "Name: Price, Length: 379, dtype: float64\n"
     ]
    }
   ],
   "source": [
    "print(X)\n",
    "print('*'*25)\n",
    "print(y)"
   ]
  },
  {
   "cell_type": "code",
   "execution_count": 20,
   "metadata": {
    "id": "DrrFytt2gkI8"
   },
   "outputs": [],
   "source": [
    "def  featureNormalize(X):\n",
    "    X_norm = X.copy()\n",
    "    mu = np.zeros(X.shape[1])\n",
    "    sigma = np.zeros(X.shape[1])\n",
    "\n",
    "    mu = np.mean(X, axis = 0)\n",
    "    sigma = np.std(X, axis = 0)\n",
    "    X_norm = (X - mu) / sigma\n",
    "\n",
    "    return X_norm, mu, sigma"
   ]
  },
  {
   "cell_type": "code",
   "execution_count": 21,
   "metadata": {
    "colab": {
     "base_uri": "https://localhost:8080/"
    },
    "id": "MhHhItqc4YLy",
    "outputId": "81adaff6-e203-40ee-aa5c-cf6b0e151810"
   },
   "outputs": [
    {
     "name": "stdout",
     "output_type": "stream",
     "text": [
      "     Brand  Model  Operating System  Connectivity  Display Type  \\\n",
      "0        1    127                34             2            17   \n",
      "1       30     36                31             2             0   \n",
      "2        8    105                 9             1             0   \n",
      "3        6    109                 7             1             0   \n",
      "4        7     43                31             1             0   \n",
      "..     ...    ...               ...           ...           ...   \n",
      "374     38     79                32             1            16   \n",
      "375     41    132                33             2             0   \n",
      "376      9    119                12             1             0   \n",
      "377     26    118                 5             1             0   \n",
      "378     35     71                31             2             0   \n",
      "\n",
      "     Display Size (inches)  Resolution  Water Resistance (meters)  \\\n",
      "0                     1.90          27                          5   \n",
      "1                     1.40          31                          5   \n",
      "2                     1.30          30                          5   \n",
      "3                     1.58          19                          5   \n",
      "4                     1.28          30                          4   \n",
      "..                     ...         ...                        ...   \n",
      "374                   1.38          21                          5   \n",
      "375                   1.39          32                          5   \n",
      "376                   1.39          32                          5   \n",
      "377                   1.64          17                          5   \n",
      "378                   1.40          32                          5   \n",
      "\n",
      "     Battery Life (days)  Heart Rate Monitor  GPS  NFC  \n",
      "0                      8                   0    1    1  \n",
      "1                     16                   0    1    1  \n",
      "2                      3                   0    1    0  \n",
      "3                     22                   0    1    1  \n",
      "4                     11                   0    1    1  \n",
      "..                   ...                 ...  ...  ...  \n",
      "374                   14                   0    0    1  \n",
      "375                    6                   0    1    1  \n",
      "376                   12                   0    1    1  \n",
      "377                    5                   0    0    1  \n",
      "378                   26                   0    1    1  \n",
      "\n",
      "[379 rows x 12 columns]\n",
      "Media calculada: Brand                        18.258575\n",
      "Model                        68.754617\n",
      "Operating System             20.810026\n",
      "Connectivity                  1.213720\n",
      "Display Type                  7.084433\n",
      "Display Size (inches)         1.363165\n",
      "Resolution                   22.182058\n",
      "Water Resistance (meters)     4.551451\n",
      "Battery Life (days)          10.625330\n",
      "Heart Rate Monitor            0.002639\n",
      "GPS                           0.923483\n",
      "NFC                           0.841689\n",
      "dtype: float64\n",
      "Desviación estandar calculada: Brand                        13.070204\n",
      "Model                        39.035272\n",
      "Operating System             11.426757\n",
      "Connectivity                  0.566638\n",
      "Display Type                  9.069549\n",
      "Display Size (inches)         0.217828\n",
      "Resolution                    9.123376\n",
      "Water Resistance (meters)     0.927087\n",
      "Battery Life (days)           6.938630\n",
      "Heart Rate Monitor            0.051299\n",
      "GPS                           0.275571\n",
      "NFC                           0.372191\n",
      "dtype: float64\n",
      "        Brand     Model  Operating System  Connectivity  Display Type  \\\n",
      "0   -1.320452  1.492122          1.154306      1.387623      1.093281   \n",
      "1    0.898335 -0.839103          0.891764      1.387623     -0.781123   \n",
      "2   -0.784883  0.928529         -1.033541     -0.377173     -0.781123   \n",
      "3   -0.937902  1.031000         -1.208569     -0.377173     -0.781123   \n",
      "4   -0.861392 -0.659778          0.891764     -0.377173     -0.781123   \n",
      "..        ...       ...               ...           ...           ...   \n",
      "374  1.510414  0.262465          0.979278     -0.377173      0.983022   \n",
      "375  1.739944  1.620211          1.066792      1.387623     -0.781123   \n",
      "376 -0.708373  1.287179         -0.771000     -0.377173     -0.781123   \n",
      "377  0.592296  1.261561         -1.383597     -0.377173     -0.781123   \n",
      "378  1.280885  0.057522          0.891764      1.387623     -0.781123   \n",
      "\n",
      "     Display Size (inches)  Resolution  Water Resistance (meters)  \\\n",
      "0                 2.464494    0.528088                   0.483826   \n",
      "1                 0.169102    0.966522                   0.483826   \n",
      "2                -0.289976    0.856913                   0.483826   \n",
      "3                 0.995443   -0.348781                   0.483826   \n",
      "4                -0.381792    0.856913                  -0.594822   \n",
      "..                     ...         ...                        ...   \n",
      "374               0.077286   -0.129564                   0.483826   \n",
      "375               0.123194    1.076130                   0.483826   \n",
      "376               0.123194    1.076130                   0.483826   \n",
      "377               1.270890   -0.567998                   0.483826   \n",
      "378               0.169102    1.076130                   0.483826   \n",
      "\n",
      "     Battery Life (days)  Heart Rate Monitor       GPS       NFC  \n",
      "0              -0.378364           -0.051434  0.277668  0.425350  \n",
      "1               0.774601           -0.051434  0.277668  0.425350  \n",
      "2              -1.098968           -0.051434  0.277668 -2.261445  \n",
      "3               1.639325           -0.051434  0.277668  0.425350  \n",
      "4               0.053998           -0.051434  0.277668  0.425350  \n",
      "..                   ...                 ...       ...       ...  \n",
      "374             0.486360           -0.051434 -3.351162  0.425350  \n",
      "375            -0.666606           -0.051434  0.277668  0.425350  \n",
      "376             0.198118           -0.051434  0.277668  0.425350  \n",
      "377            -0.810726           -0.051434 -3.351162  0.425350  \n",
      "378             2.215808           -0.051434  0.277668  0.425350  \n",
      "\n",
      "[379 rows x 12 columns]\n"
     ]
    }
   ],
   "source": [
    "# llama featureNormalize con los datos cargados\n",
    "X_norm, mu, sigma = featureNormalize(X)\n",
    "\n",
    "print(X)\n",
    "print('Media calculada:', mu)\n",
    "print('Desviación estandar calculada:', sigma)\n",
    "print(X_norm)"
   ]
  },
  {
   "cell_type": "code",
   "execution_count": 22,
   "metadata": {
    "id": "EB4cCmdm4bxJ"
   },
   "outputs": [],
   "source": [
    "# Añade el termino de interseccion a X\n",
    "# (Columna de unos para X0)\n",
    "X = np.concatenate([np.ones((m, 1)), X_norm], axis=1)"
   ]
  },
  {
   "cell_type": "code",
   "execution_count": 23,
   "metadata": {
    "colab": {
     "base_uri": "https://localhost:8080/"
    },
    "id": "jxdWrQDC4fcD",
    "outputId": "65ab294f-31fe-4c6d-a6b3-b705239eb8b2"
   },
   "outputs": [
    {
     "name": "stdout",
     "output_type": "stream",
     "text": [
      "[[ 1.         -1.32045185  1.49212186 ... -0.05143445  0.27766774\n",
      "   0.4253501 ]\n",
      " [ 1.          0.89833523 -0.83910309 ... -0.05143445  0.27766774\n",
      "   0.4253501 ]\n",
      " [ 1.         -0.78488255  0.92852902 ... -0.05143445  0.27766774\n",
      "  -2.26144469]\n",
      " ...\n",
      " [ 1.         -0.70837265  1.28717901 ... -0.05143445  0.27766774\n",
      "   0.4253501 ]\n",
      " [ 1.          0.59229563  1.26156115 ... -0.05143445 -3.35116244\n",
      "   0.4253501 ]\n",
      " [ 1.          1.28088472  0.05752189 ... -0.05143445  0.27766774\n",
      "   0.4253501 ]]\n"
     ]
    }
   ],
   "source": [
    "print(X)"
   ]
  },
  {
   "cell_type": "code",
   "execution_count": 24,
   "metadata": {
    "id": "is_NER384kX5"
   },
   "outputs": [],
   "source": [
    "def computeCostMulti(X, y, theta):\n",
    "    # Inicializa algunos valores utiles\n",
    "    m = y.shape[0] # numero de ejemplos de entrenamiento\n",
    "\n",
    "    J = 0\n",
    "\n",
    "    h = np.dot(X, theta)\n",
    "\n",
    "    J = (1/(2 * m)) * np.sum(np.square(np.dot(X, theta) - y))\n",
    "\n",
    "    return J\n"
   ]
  },
  {
   "cell_type": "code",
   "execution_count": 25,
   "metadata": {
    "id": "NTic99Il4k9H"
   },
   "outputs": [],
   "source": [
    "def gradientDescentMulti(X, y, theta, alpha, num_iters):\n",
    "\n",
    "    # Inicializa algunos valores\n",
    "    m = y.shape[0] # numero de ejemplos de entrenamiento\n",
    "\n",
    "    # realiza una copia de theta, el cual será acutalizada por el descenso por el gradiente\n",
    "    theta = theta.copy()\n",
    "\n",
    "    J_history = []\n",
    "\n",
    "    for i in range(num_iters):\n",
    "        theta = theta - (alpha / m) * (np.dot(X, theta) - y).dot(X)\n",
    "        J_history.append(computeCostMulti(X, y, theta))\n",
    "\n",
    "    return theta, J_history"
   ]
  },
  {
   "cell_type": "code",
   "execution_count": 26,
   "metadata": {
    "colab": {
     "base_uri": "https://localhost:8080/",
     "height": 518
    },
    "id": "2sc2AmKF4qJQ",
    "outputId": "450bdfa8-c6ed-4f96-d039-7bed950e070e"
   },
   "outputs": [
    {
     "name": "stdout",
     "output_type": "stream",
     "text": [
      "theta calculado por el descenso por el gradiente: [293.02795239 -21.09318917 -24.26688627  15.1770591   12.06354922\n",
      "  32.32655706  15.60322817 -19.7381911  -44.61746165 -17.06698574\n",
      "  -2.79229191  35.40736265   4.81163069]\n",
      "El valor predecido es (usando el descenso por el gradiente): 355.6455\n"
     ]
    },
    {
     "data": {
      "image/png": "[encoded data removed]",
      "text/plain": [
       "<Figure size 640x480 with 1 Axes>"
      ]
     },
     "metadata": {},
     "output_type": "display_data"
    }
   ],
   "source": [
    "# Elegir algun valor para alpha (probar varias alternativas)\n",
    "alpha = 0.001\n",
    "num_iters = 5000\n",
    "\n",
    "# inicializa theta y ejecuta el descenso por el gradiente\n",
    "theta = np.zeros(13)\n",
    "theta, J_history = gradientDescentMulti(X, y, theta, alpha, num_iters)\n",
    "\n",
    "# Grafica la convergencia del costo\n",
    "pyplot.plot(np.arange(len(J_history)), J_history, lw=2)\n",
    "pyplot.xlabel('Numero de iteraciones')\n",
    "pyplot.ylabel('Costo J')\n",
    "\n",
    "# Muestra los resultados del descenso por el gradiente\n",
    "print('theta calculado por el descenso por el gradiente: {:s}'.format(str(theta)))\n",
    "\n",
    "# Estimar el precio para un smart watch con distintas caracteristicas\n",
    "X_array = [1, 2, 130, 32, 1, 17, 1.48, 29, 4, 12, 0, 1, 1]\n",
    "X_array[1:13] = (X_array[1:13] - mu) / sigma\n",
    "price = np.dot(X_array, theta)   # Se debe cambiar esto\n",
    "\n",
    "print('El valor predecido es (usando el descenso por el gradiente): {:.4f}'.format(price))"
   ]
  },
  {
   "cell_type": "code",
   "execution_count": null,
   "metadata": {},
   "outputs": [],
   "source": []
  }
 ],
 "metadata": {
  "colab": {
   "provenance": []
  },
  "kernelspec": {
   "display_name": "Python 3 (ipykernel)",
   "language": "python",
   "name": "python3"
  },
  "language_info": {
   "codemirror_mode": {
    "name": "ipython",
    "version": 3
   },
   "file_extension": ".py",
   "mimetype": "text/x-python",
   "name": "python",
   "nbconvert_exporter": "python",
   "pygments_lexer": "ipython3",
   "version": "3.11.4"
  }
 },
 "nbformat": 4,
 "nbformat_minor": 1
}
