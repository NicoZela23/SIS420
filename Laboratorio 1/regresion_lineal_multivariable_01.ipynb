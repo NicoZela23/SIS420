{
 "cells": [
  {
   "cell_type": "code",
   "execution_count": 1,
   "metadata": {
    "executionInfo": {
     "elapsed": 322,
     "status": "ok",
     "timestamp": 1637349694648,
     "user": {
      "displayName": "Carlos Walter Pacheco Lora",
      "photoUrl": "https://lh3.googleusercontent.com/a/default-user=s64",
      "userId": "05889892519883337793"
     },
     "user_tz": 240
    },
    "id": "mIM3MHD6oWwH"
   },
   "outputs": [],
   "source": [
    "import os\n",
    "import numpy as np\n",
    "from matplotlib import pyplot"
   ]
  },
  {
   "cell_type": "code",
   "execution_count": 2,
   "metadata": {
    "executionInfo": {
     "elapsed": 1,
     "status": "ok",
     "timestamp": 1637349695739,
     "user": {
      "displayName": "Carlos Walter Pacheco Lora",
      "photoUrl": "https://lh3.googleusercontent.com/a/default-user=s64",
      "userId": "05889892519883337793"
     },
     "user_tz": 240
    },
    "id": "8fqXopw1owNd"
   },
   "outputs": [],
   "source": [
    "# Leer datos\n",
    "data = np.loadtxt(\"soybean_JUL14_Clean_File.txt\", delimiter=',')\n",
    "X, y = data[:, :7], data[:, 7]\n",
    "m = y.size"
   ]
  },
  {
   "cell_type": "code",
   "execution_count": 3,
   "metadata": {
    "colab": {
     "base_uri": "https://localhost:8080/"
    },
    "executionInfo": {
     "elapsed": 275,
     "status": "ok",
     "timestamp": 1637349698322,
     "user": {
      "displayName": "Carlos Walter Pacheco Lora",
      "photoUrl": "https://lh3.googleusercontent.com/a/default-user=s64",
      "userId": "05889892519883337793"
     },
     "user_tz": 240
    },
    "id": "ZM27RFoseRhP",
    "outputId": "8b044489-f104-418a-d04f-6b08b4f32f08"
   },
   "outputs": [
    {
     "data": {
      "text/plain": [
       "(942, 7)"
      ]
     },
     "execution_count": 3,
     "metadata": {},
     "output_type": "execute_result"
    }
   ],
   "source": [
    "X.shape"
   ]
  },
  {
   "cell_type": "code",
   "execution_count": 4,
   "metadata": {
    "executionInfo": {
     "elapsed": 283,
     "status": "ok",
     "timestamp": 1637349700757,
     "user": {
      "displayName": "Carlos Walter Pacheco Lora",
      "photoUrl": "https://lh3.googleusercontent.com/a/default-user=s64",
      "userId": "05889892519883337793"
     },
     "user_tz": 240
    },
    "id": "FXDh9ijIo1tB"
   },
   "outputs": [],
   "source": [
    "def normalizarCaracteristicas(X):\n",
    "    X_norm = X.copy()\n",
    "    mu = np.zeros(X.shape[1])\n",
    "    sigma = np.zeros(X.shape[1])\n",
    "\n",
    "    mu = np.mean(X, axis = 0)\n",
    "    sigma = np.std(X, axis = 0)\n",
    "    X_norm = (X - mu) / sigma\n",
    "    \n",
    "    return X_norm, mu, sigma"
   ]
  },
  {
   "cell_type": "code",
   "execution_count": 5,
   "metadata": {
    "colab": {
     "base_uri": "https://localhost:8080/"
    },
    "executionInfo": {
     "elapsed": 290,
     "status": "ok",
     "timestamp": 1637349705368,
     "user": {
      "displayName": "Carlos Walter Pacheco Lora",
      "photoUrl": "https://lh3.googleusercontent.com/a/default-user=s64",
      "userId": "05889892519883337793"
     },
     "user_tz": 240
    },
    "id": "mnAjjeSwpPnu",
    "outputId": "d7d226ac-7215-4da0-8116-6e5ab20c8aed"
   },
   "outputs": [
    {
     "name": "stdout",
     "output_type": "stream",
     "text": [
      "[[1.00000e+00 0.00000e+00 1.09350e+03 ... 1.09350e+03 0.00000e+00\n",
      "  0.00000e+00]\n",
      " [2.00000e+00 0.00000e+00 1.10700e+03 ... 1.10700e+03 0.00000e+00\n",
      "  0.00000e+00]\n",
      " [3.00000e+00 0.00000e+00 1.06700e+03 ... 1.06700e+03 0.00000e+00\n",
      "  0.00000e+00]\n",
      " ...\n",
      " [9.40000e+02 1.33000e+03 1.34775e+03 ... 1.32975e+03 1.04400e+03\n",
      "  1.42200e+03]\n",
      " [9.41000e+02 1.32975e+03 1.34025e+03 ... 1.29575e+03 9.58000e+02\n",
      "  7.49000e+02]\n",
      " [9.42000e+02 1.30250e+03 1.30850e+03 ... 1.29500e+03 9.92000e+02\n",
      "  2.99000e+02]]\n",
      "Media calculada: [  471.5          578.87791932  1280.10536093  1272.76698514\n",
      "  1276.55254777  8628.99681529 26586.68895966]\n",
      "Desviación estandar calculada: [  271.93182356   654.43003989    80.49505204    75.2145576\n",
      "    77.76962566 22155.26646432 62091.68272131]\n",
      "[[-1.73021309 -0.88455279 -2.31822151 ... -2.35377946 -0.38947836\n",
      "  -0.42818438]\n",
      " [-1.7265357  -0.88455279 -2.15050934 ... -2.18018984 -0.38947836\n",
      "  -0.42818438]\n",
      " [-1.7228583  -0.88455279 -2.64743429 ... -2.69452946 -0.38947836\n",
      "  -0.42818438]\n",
      " ...\n",
      " [ 1.7228583   1.14775     0.84035773 ...  0.68403894 -0.34235638\n",
      "  -0.40528277]\n",
      " [ 1.7265357   1.14736799  0.7471843  ...  0.24685026 -0.34623808\n",
      "  -0.41612158]\n",
      " [ 1.73021309  1.10572871  0.35275012 ...  0.23720639 -0.34470345\n",
      "  -0.42336892]]\n"
     ]
    }
   ],
   "source": [
    "# llama featureNormalize con los datos cargados\n",
    "X_norm, mu, sigma = normalizarCaracteristicas(X)\n",
    "\n",
    "print(X)\n",
    "print('Media calculada:', mu)\n",
    "print('Desviación estandar calculada:', sigma)\n",
    "print(X_norm)"
   ]
  },
  {
   "cell_type": "code",
   "execution_count": 6,
   "metadata": {
    "executionInfo": {
     "elapsed": 313,
     "status": "ok",
     "timestamp": 1637349840840,
     "user": {
      "displayName": "Carlos Walter Pacheco Lora",
      "photoUrl": "https://lh3.googleusercontent.com/a/default-user=s64",
      "userId": "05889892519883337793"
     },
     "user_tz": 240
    },
    "id": "jkVjRskgrJd2"
   },
   "outputs": [],
   "source": [
    "# Añade el termino de interseccion a X\n",
    "# (Columna de unos para X0)\n",
    "X_ready = np.concatenate([np.ones((m, 1)), X_norm], axis=1)"
   ]
  },
  {
   "cell_type": "code",
   "execution_count": 7,
   "metadata": {
    "executionInfo": {
     "elapsed": 290,
     "status": "ok",
     "timestamp": 1637349845256,
     "user": {
      "displayName": "Carlos Walter Pacheco Lora",
      "photoUrl": "https://lh3.googleusercontent.com/a/default-user=s64",
      "userId": "05889892519883337793"
     },
     "user_tz": 240
    },
    "id": "iDWldqUVwYwK"
   },
   "outputs": [],
   "source": [
    "def calcularCosto(X, y, theta):\n",
    "  m = y.shape[0]\n",
    "  J = 0\n",
    "  h = np.dot(X, theta)\n",
    "  J = (1/(2 * m)) * np.sum(np.square(np.dot(X, theta) - y))\n",
    "  return J"
   ]
  },
  {
   "cell_type": "code",
   "execution_count": 8,
   "metadata": {
    "executionInfo": {
     "elapsed": 277,
     "status": "ok",
     "timestamp": 1637349855509,
     "user": {
      "displayName": "Carlos Walter Pacheco Lora",
      "photoUrl": "https://lh3.googleusercontent.com/a/default-user=s64",
      "userId": "05889892519883337793"
     },
     "user_tz": 240
    },
    "id": "ymTwiKnBzVk1"
   },
   "outputs": [],
   "source": [
    "def calcularDescensoGradiente(X, y, theta, alpha, numero_iteraciones):\n",
    "  m = y.shape[0]\n",
    "  theta = theta.copy()\n",
    "  J_historico = []\n",
    "\n",
    "  for i in range(numero_iteraciones):\n",
    "    theta = theta - (alpha / m) * (np.dot(X, theta) - y).dot(X)\n",
    "    J_historico.append(calcularCosto(X, y, theta))\n",
    "\n",
    "  return theta, J_historico"
   ]
  },
  {
   "cell_type": "code",
   "execution_count": 9,
   "metadata": {
    "colab": {
     "base_uri": "https://localhost:8080/",
     "height": 342
    },
    "executionInfo": {
     "elapsed": 2042,
     "status": "ok",
     "timestamp": 1637350377079,
     "user": {
      "displayName": "Carlos Walter Pacheco Lora",
      "photoUrl": "https://lh3.googleusercontent.com/a/default-user=s64",
      "userId": "05889892519883337793"
     },
     "user_tz": 240
    },
    "id": "XVLJEATe0fiS",
    "outputId": "391583d6-0419-424b-dd78-442daf339bef"
   },
   "outputs": [
    {
     "name": "stdout",
     "output_type": "stream",
     "text": [
      "theta calculado por el descenso por el gradiente: [591807.90894206   6756.64372189 -24028.69609896    891.13130626\n",
      "   5193.79630843   4454.07590931   5108.99517164   8228.45253316]\n",
      "El valor predecido es (usando el descenso por el gradiente): 4692957.9920\n"
     ]
    },
    {
     "data": {
      "image/png": "[encoded data removed]",
      "text/plain": [
       "<Figure size 640x480 with 1 Axes>"
      ]
     },
     "metadata": {},
     "output_type": "display_data"
    }
   ],
   "source": [
    "theta = np.zeros(8)\n",
    "\n",
    "alpha = 0.001\n",
    "num_ite = 5000\n",
    "\n",
    "theta, J_historico = calcularDescensoGradiente(X_ready, y, theta, alpha, num_ite)\n",
    "\n",
    "# Grafica la convergencia del costo\n",
    "pyplot.plot(np.arange(len(J_historico)), J_historico, lw=2)\n",
    "pyplot.xlabel('Numero de iteraciones')\n",
    "pyplot.ylabel('Costo J')\n",
    "\n",
    "print('theta calculado por el descenso por el gradiente: {:s}'.format(str(theta)))\n",
    "\n",
    "X_array = [8, 0, 1088, 1088, 1088, 0, 0, 621891]\n",
    "X_array[1:8] = (X_array[1:8] - mu) / sigma\n",
    "price = np.dot(X_array, theta)   # Se debe cambiar esto\n",
    "\n",
    "print('El valor predecido es (usando el descenso por el gradiente): {:.4f}'.format(price))"
   ]
  },
  {
   "cell_type": "code",
   "execution_count": 13,
   "metadata": {
    "id": "gVBomWT6t24x"
   },
   "outputs": [],
   "source": [
    "#Utilizando la ecuacion de la norma"
   ]
  },
  {
   "cell_type": "code",
   "execution_count": 14,
   "metadata": {
    "executionInfo": {
     "elapsed": 264,
     "status": "ok",
     "timestamp": 1637350961873,
     "user": {
      "displayName": "Carlos Walter Pacheco Lora",
      "photoUrl": "https://lh3.googleusercontent.com/a/default-user=s64",
      "userId": "05889892519883337793"
     },
     "user_tz": 240
    },
    "id": "7j8PZdaMo1tF"
   },
   "outputs": [],
   "source": [
    "def calcularThethaEcuacionNormal(X, y):\n",
    "    theta = np.zeros(X.shape[1])\n",
    "    theta = np.dot(np.dot(np.linalg.inv(np.dot(X.T,X)),X.T),y)\n",
    "    return theta"
   ]
  },
  {
   "cell_type": "code",
   "execution_count": 15,
   "metadata": {
    "executionInfo": {
     "elapsed": 266,
     "status": "ok",
     "timestamp": 1637351071042,
     "user": {
      "displayName": "Carlos Walter Pacheco Lora",
      "photoUrl": "https://lh3.googleusercontent.com/a/default-user=s64",
      "userId": "05889892519883337793"
     },
     "user_tz": 240
    },
    "id": "jO5Vj8-Vuk2T"
   },
   "outputs": [],
   "source": [
    "X_ren = np.concatenate([np.ones((m, 1)), X], axis=1)"
   ]
  },
  {
   "cell_type": "code",
   "execution_count": 16,
   "metadata": {
    "colab": {
     "base_uri": "https://localhost:8080/"
    },
    "executionInfo": {
     "elapsed": 332,
     "status": "ok",
     "timestamp": 1637351081855,
     "user": {
      "displayName": "Carlos Walter Pacheco Lora",
      "photoUrl": "https://lh3.googleusercontent.com/a/default-user=s64",
      "userId": "05889892519883337793"
     },
     "user_tz": 240
    },
    "id": "2h7TGLI9t6RL",
    "outputId": "5808888b-3b57-4277-a27e-6d0dd74a2a34"
   },
   "outputs": [
    {
     "name": "stdout",
     "output_type": "stream",
     "text": [
      "los valores de theta calculados son: [ 4.67466090e+05  8.50687462e+01 -4.63086429e+01 -1.67413352e+03\n",
      "  6.95044740e+02  1.07029959e+03  1.23982108e-01  2.30087211e-01]\n"
     ]
    }
   ],
   "source": [
    "theta = calcularThethaEcuacionNormal(X_ren, y);\n",
    "print(f\"los valores de theta calculados son: { theta }\")\n"
   ]
  },
  {
   "cell_type": "code",
   "execution_count": 18,
   "metadata": {
    "colab": {
     "base_uri": "https://localhost:8080/"
    },
    "executionInfo": {
     "elapsed": 257,
     "status": "ok",
     "timestamp": 1637351141079,
     "user": {
      "displayName": "Carlos Walter Pacheco Lora",
      "photoUrl": "https://lh3.googleusercontent.com/a/default-user=s64",
      "userId": "05889892519883337793"
     },
     "user_tz": 240
    },
    "id": "z8vh6MWxo1tG",
    "outputId": "bd99213b-6646-46af-c37b-eb2151f0c09a"
   },
   "outputs": [
    {
     "name": "stdout",
     "output_type": "stream",
     "text": [
      "Precio predecido para un volumen de soya de 1088 (usando la ecuación de la normal): $2767185\n"
     ]
    }
   ],
   "source": [
    "X_array = [8, 0, 1088, 1088, 1088, 0, 0, 621891]\n",
    "price = np.dot(X_array, theta) \n",
    "\n",
    "print('Precio predecido para un volumen de soya de 1088 (usando la ecuación de la normal): ${:.0f}'.format(price))"
   ]
  },
  {
   "cell_type": "code",
   "execution_count": null,
   "metadata": {},
   "outputs": [],
   "source": []
  }
 ],
 "metadata": {
  "colab": {
   "collapsed_sections": [],
   "name": "regresion_lineal_multivariable_01.ipynb",
   "provenance": []
  },
  "kernelspec": {
   "display_name": "Python 3 (ipykernel)",
   "language": "python",
   "name": "python3"
  },
  "language_info": {
   "codemirror_mode": {
    "name": "ipython",
    "version": 3
   },
   "file_extension": ".py",
   "mimetype": "text/x-python",
   "name": "python",
   "nbconvert_exporter": "python",
   "pygments_lexer": "ipython3",
   "version": "3.11.4"
  }
 },
 "nbformat": 4,
 "nbformat_minor": 1
}
