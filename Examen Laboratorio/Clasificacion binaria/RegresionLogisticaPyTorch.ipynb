{
 "cells": [
  {
   "cell_type": "code",
   "execution_count": 135,
   "metadata": {
    "id": "8LJIBkhupmJr"
   },
   "outputs": [],
   "source": [
    "%matplotlib inline\n",
    "import numpy as np  #Operaciones numéricas\n",
    "import pandas as pd  #Manipulación de datos\n",
    "import torch  # Tener acceso a PyTorch\n",
    "from pylab import plt #Graficar los datos\n",
    "import torch.nn as nn  #Construir redes neuronales\n",
    "import torch.nn.functional as F  #Funciones de activación\n",
    "import torch.optim as optim  #Optimización\n",
    "from torch.autograd import Variable  #Seguimiento automático de gradientes\n",
    "import random  #Números aleatorios\n",
    "from sklearn.model_selection import train_test_split  # Dividir datos\n",
    "from torch.utils.data import DataLoader, TensorDataset  #Cargar datos en PyTorch\n",
    "from sklearn.preprocessing import StandardScaler  #Normalizacion de  datos\n"
   ]
  },
  {
   "cell_type": "code",
   "execution_count": 136,
   "metadata": {
    "id": "4Eoffi2OtNy-"
   },
   "outputs": [],
   "source": [
    "#Tratamiento de datos\n",
    "nombre_archivo = 'Life_Expectancy_00_15 - Copy.csv'\n",
    "#Conversion de valores True y false\n",
    "df = pd.read_csv(nombre_archivo, delimiter=';')\n",
    "df = df.replace({True: 1, False: 0})\n",
    "\n",
    "# Elimina columnas innecesarias para el ejercicio\n",
    "columnas_a_eliminar = ['Country', 'Year', 'Continent']\n",
    "df = df.drop(columnas_a_eliminar, axis=1)\n",
    "\n",
    "#asegurar valores numericos\n",
    "columnas_numericas = ['Least Developed']\n",
    "df[columnas_numericas] = df[columnas_numericas].apply(pd.to_numeric, errors='coerce')\n",
    "\n",
    "df.to_csv(nombre_archivo, index=False)"
   ]
  },
  {
   "cell_type": "markdown",
   "metadata": {
    "id": "U7R9cRB8AUg9"
   },
   "source": [
    "Configurar el tamaño del lote (batch_size) y el número de iteraciones (n_iters)\n",
    "Calcular el número de épocas (number_epochs) necesario para alcanzar n_iters"
   ]
  },
  {
   "cell_type": "code",
   "execution_count": 137,
   "metadata": {
    "id": "3gNeAxFLtMO3"
   },
   "outputs": [],
   "source": [
    "batch_size = 100  # Tamaño del lote: cuántas muestras se procesan a la vez\n",
    "n_iters = 3000    # Número total de iteraciones deseado\n",
    "\n",
    "# Calcular el número de épocas necesario para alcanzar n_iters\n",
    "number_epochs = n_iters / (len(Xtrain) / batch_size)\n",
    "number_epochs = int(number_epochs)  # Convertir a número entero"
   ]
  },
  {
   "cell_type": "code",
   "execution_count": 138,
   "metadata": {
    "id": "hr9OPdPrvjzm"
   },
   "outputs": [],
   "source": [
    "#Lectura de datos\n",
    "data = pd.read_csv('Life_Expectancy_00_15 - Copy.csv')\n",
    "data = data.dropna()\n",
    "data = data.fillna(0)\n",
    "\n",
    "y = data[['Least Developed']]\n",
    "x = data.drop(columns=['Least Developed'])\n",
    "\n",
    "# Convierte las columnas a arreglos numpy\n",
    "x = x.to_numpy(dtype=np.float32)\n",
    "y = y.to_numpy(dtype=np.float32)\n",
    "\n",
    "# Normalizar los datos\n",
    "scaler_X = StandardScaler()\n",
    "x = scaler_X.fit_transform(x)\n",
    "\n",
    "scaler_y = StandardScaler()\n",
    "y = scaler_y.fit_transform(y)"
   ]
  },
  {
   "cell_type": "code",
   "execution_count": 139,
   "metadata": {
    "id": "Eno_tnvTwbz2"
   },
   "outputs": [],
   "source": [
    "# Dividir los datos en conjuntos de entrenamiento y prueba\n",
    "Xtrain, Xtest, Ytrain, Ytest = train_test_split(x, y, test_size=.2)"
   ]
  },
  {
   "cell_type": "markdown",
   "metadata": {
    "id": "LH6UEeblAjnl"
   },
   "source": [
    "En esta clase llamada \"LogisticRegression\", se define un modelo de Regresión Logística utilizando PyTorch.\n",
    "capa lineal (nn.Linear) que toma 13 características de entrada y produce 3 salidas.\n",
    "La función \"forward\" define cómo se realiza la propagación hacia adelante en el modelo, aplicando la capa lineal seguida de la función logaritmo softmax para obtener las probabilidades de clase."
   ]
  },
  {
   "cell_type": "code",
   "execution_count": 140,
   "metadata": {
    "id": "aJ69Zu6vwjJ_"
   },
   "outputs": [],
   "source": [
    "class LogisticRegression(nn.Module):\n",
    "    def __init__(self):\n",
    "        super(LogisticRegression, self).__init__()\n",
    "        self.fc1 = nn.Linear(13, 3)\n",
    "\n",
    "    def forward(self, x):\n",
    "        x = self.fc1(x)\n",
    "        return F.log_softmax(x, dim=-1)"
   ]
  },
  {
   "cell_type": "markdown",
   "metadata": {
    "id": "ZAMa8npnAzCh"
   },
   "source": [
    "Creación de un modelo de regresión logística, un optimizador Adam, una función de pérdida NLLLoss y una lista para almacenar resultados.\n",
    "\n",
    "1. Crear una instancia del modelo de regresión logística. (propagación hacia adelante).\n",
    "2. Crear un optimizador Adam y asociarlo con los parámetros del modelo.\n",
    "3.Crear una función de pérdida (NLLLoss) que se utilizará para calcular la pérdida durante el entrenamiento.\n",
    "4. Crear una lista vacía para almacenar resultados como pérdida y precisión durante el entrenamiento."
   ]
  },
  {
   "cell_type": "code",
   "execution_count": 141,
   "metadata": {
    "id": "4H6u6okZwksb"
   },
   "outputs": [],
   "source": [
    "model = LogisticRegression()\n",
    "optimizer = optim.Adam(model.parameters())\n",
    "criterion = nn.NLLLoss()\n",
    "my_list = []"
   ]
  },
  {
   "cell_type": "code",
   "execution_count": 142,
   "metadata": {
    "colab": {
     "base_uri": "https://localhost:8080/"
    },
    "id": "NUT9NJVm1WqW",
    "outputId": "019d6228-f542-442f-afbf-36edc531b9b3"
   },
   "outputs": [
    {
     "name": "stdout",
     "output_type": "stream",
     "text": [
      "(1523, 1)\n",
      "(381, 1)\n"
     ]
    }
   ],
   "source": [
    "print(Ytrain.shape)\n",
    "print(Ytest.shape)"
   ]
  },
  {
   "cell_type": "markdown",
   "metadata": {
    "id": "bfUSUvLrBhd-"
   },
   "source": [
    "Se convierten los datos de entrenamiento y prueba, así como las etiquetas, en tensores de PyTorch utilizando la clase Variable y torch.from_numpy(). Esto permite que los datos se utilicen con PyTorch.\n",
    "\n",
    "Se inicia un ciclo for que itera a lo largo de las épocas, desde 1 hasta number_epochs.\n",
    "\n",
    "Dentro de cada época, se realizan los siguientes pasos:\n",
    "\n",
    "Se reinician los gradientes del optimizador a cero con optimizer.zero_grad().\n",
    "Se obtienen predicciones del modelo en el conjunto de entrenamiento y se calcula la pérdida de entrenamiento utilizando la función de pérdida (criterio).\n",
    "Se retropropagan los gradientes (gradientes de la pérdida con respecto a los parámetros del modelo) con loss.backward() para calcular gradientes.\n",
    "Se actualizan los pesos del modelo utilizando el optimizador con optimizer.step().\n",
    "Se obtienen predicciones en el conjunto de prueba y se calcula la pérdida en el conjunto de prueba utilizando la función de pérdida.\n",
    "\n",
    "Se calcula la precisión comparando las etiquetas predichas con las etiquetas reales en el conjunto de prueba.\n",
    "\n",
    "Los resultados (época, pérdida de entrenamiento, pérdida de prueba y precisión) se registran en la lista my_list para su posterior análisis y visualización."
   ]
  },
  {
   "cell_type": "code",
   "execution_count": 143,
   "metadata": {
    "id": "REPciojPxQXu"
   },
   "outputs": [],
   "source": [
    "# Convertir datos de entrenamiento y prueba a tensores de PyTorch\n",
    "Xtrain_ = Variable(torch.from_numpy(Xtrain))\n",
    "Xtest_ = Variable(torch.from_numpy(Xtest))\n",
    "Ytrain_ = Variable(torch.from_numpy(Ytrain.flatten().astype(np.int64)))\n",
    "Ytest_ = Variable(torch.from_numpy(Ytest.flatten().astype(np.int64)))\n",
    "\n",
    "# Ciclo de entrenamiento a lo largo de las épocas\n",
    "for epoch in range(1, number_epochs + 1):\n",
    "    optimizer.zero_grad()  # Reiniciar gradientes del optimizador\n",
    "    Ypred = model(Xtrain_)  # Obtener predicciones del modelo\n",
    "    loss = criterion(Ypred , Ytrain_)  # Calcular la pérdida de entrenamiento\n",
    "    loss.backward()  # Retropropagar gradientes\n",
    "    optimizer.step()  # Actualizar pesos mediante el optimizador\n",
    "\n",
    "    Ypred_test = model(Xtest_)  # Obtener predicciones en el conjunto de prueba\n",
    "    loss_test = criterion(Ypred_test, Ytest_)  # Calcular la pérdida en el conjunto de prueba\n",
    "    pred = Ypred_test.data.max(1, keepdim=True)[1]  # Obtener las etiquetas predichas\n",
    "    accuracy = pred.eq(Ytest_.data.view_as(pred)).cpu().sum().item() / Ytest.size  # Calcular precisión\n",
    "    my_list.append([epoch, loss.data.item(), loss_test.data.item(), accuracy])  # Registrar resultados en la lista\n"
   ]
  },
  {
   "cell_type": "markdown",
   "metadata": {
    "id": "v19MPxFJByYD"
   },
   "source": [
    "Creación de datos simulados para el rendimiento del modelo en épocas (solo con fines de demostración)"
   ]
  },
  {
   "cell_type": "code",
   "execution_count": 144,
   "metadata": {
    "colab": {
     "base_uri": "https://localhost:8080/",
     "height": 394
    },
    "id": "0YSZtDbFxTiH",
    "outputId": "0fb01da5-23e5-4d0e-b727-12b82954bce4"
   },
   "outputs": [
    {
     "data": {
      "text/html": [
       "\n",
       "  <div id=\"df-12961e23-97a1-4b40-8e44-5a4c632b2eb8\" class=\"colab-df-container\">\n",
       "    <div>\n",
       "<style scoped>\n",
       "    .dataframe tbody tr th:only-of-type {\n",
       "        vertical-align: middle;\n",
       "    }\n",
       "\n",
       "    .dataframe tbody tr th {\n",
       "        vertical-align: top;\n",
       "    }\n",
       "\n",
       "    .dataframe thead th {\n",
       "        text-align: right;\n",
       "    }\n",
       "</style>\n",
       "<table border=\"1\" class=\"dataframe\">\n",
       "  <thead>\n",
       "    <tr style=\"text-align: right;\">\n",
       "      <th></th>\n",
       "      <th>train_loss</th>\n",
       "      <th>test_loss</th>\n",
       "      <th>accuracy</th>\n",
       "    </tr>\n",
       "    <tr>\n",
       "      <th>epoch</th>\n",
       "      <th></th>\n",
       "      <th></th>\n",
       "      <th></th>\n",
       "    </tr>\n",
       "  </thead>\n",
       "  <tbody>\n",
       "    <tr>\n",
       "      <th>1</th>\n",
       "      <td>0.625419</td>\n",
       "      <td>0.647696</td>\n",
       "      <td>0.868937</td>\n",
       "    </tr>\n",
       "    <tr>\n",
       "      <th>2</th>\n",
       "      <td>0.943615</td>\n",
       "      <td>0.392774</td>\n",
       "      <td>0.820868</td>\n",
       "    </tr>\n",
       "    <tr>\n",
       "      <th>3</th>\n",
       "      <td>0.868237</td>\n",
       "      <td>0.526727</td>\n",
       "      <td>0.811417</td>\n",
       "    </tr>\n",
       "    <tr>\n",
       "      <th>4</th>\n",
       "      <td>0.679878</td>\n",
       "      <td>0.595202</td>\n",
       "      <td>0.740931</td>\n",
       "    </tr>\n",
       "    <tr>\n",
       "      <th>5</th>\n",
       "      <td>0.919157</td>\n",
       "      <td>0.707734</td>\n",
       "      <td>0.831193</td>\n",
       "    </tr>\n",
       "    <tr>\n",
       "      <th>6</th>\n",
       "      <td>0.997160</td>\n",
       "      <td>0.805146</td>\n",
       "      <td>0.771244</td>\n",
       "    </tr>\n",
       "    <tr>\n",
       "      <th>7</th>\n",
       "      <td>0.622415</td>\n",
       "      <td>0.802428</td>\n",
       "      <td>0.896222</td>\n",
       "    </tr>\n",
       "    <tr>\n",
       "      <th>8</th>\n",
       "      <td>0.525216</td>\n",
       "      <td>0.243878</td>\n",
       "      <td>0.766216</td>\n",
       "    </tr>\n",
       "    <tr>\n",
       "      <th>9</th>\n",
       "      <td>0.212123</td>\n",
       "      <td>0.826357</td>\n",
       "      <td>0.844563</td>\n",
       "    </tr>\n",
       "    <tr>\n",
       "      <th>10</th>\n",
       "      <td>0.901962</td>\n",
       "      <td>0.319834</td>\n",
       "      <td>0.896266</td>\n",
       "    </tr>\n",
       "  </tbody>\n",
       "</table>\n",
       "</div>\n",
       "    <div class=\"colab-df-buttons\">\n",
       "\n",
       "  <div class=\"colab-df-container\">\n",
       "    <button class=\"colab-df-convert\" onclick=\"convertToInteractive('df-12961e23-97a1-4b40-8e44-5a4c632b2eb8')\"\n",
       "            title=\"Convert this dataframe to an interactive table.\"\n",
       "            style=\"display:none;\">\n",
       "\n",
       "  <svg xmlns=\"http://www.w3.org/2000/svg\" height=\"24px\" viewBox=\"0 -960 960 960\">\n",
       "    <path d=\"M120-120v-720h720v720H120Zm60-500h600v-160H180v160Zm220 220h160v-160H400v160Zm0 220h160v-160H400v160ZM180-400h160v-160H180v160Zm440 0h160v-160H620v160ZM180-180h160v-160H180v160Zm440 0h160v-160H620v160Z\"/>\n",
       "  </svg>\n",
       "    </button>\n",
       "\n",
       "  <style>\n",
       "    .colab-df-container {\n",
       "      display:flex;\n",
       "      gap: 12px;\n",
       "    }\n",
       "\n",
       "    .colab-df-convert {\n",
       "      background-color: #E8F0FE;\n",
       "      border: none;\n",
       "      border-radius: 50%;\n",
       "      cursor: pointer;\n",
       "      display: none;\n",
       "      fill: #1967D2;\n",
       "      height: 32px;\n",
       "      padding: 0 0 0 0;\n",
       "      width: 32px;\n",
       "    }\n",
       "\n",
       "    .colab-df-convert:hover {\n",
       "      background-color: #E2EBFA;\n",
       "      box-shadow: 0px 1px 2px rgba(60, 64, 67, 0.3), 0px 1px 3px 1px rgba(60, 64, 67, 0.15);\n",
       "      fill: #174EA6;\n",
       "    }\n",
       "\n",
       "    .colab-df-buttons div {\n",
       "      margin-bottom: 4px;\n",
       "    }\n",
       "\n",
       "    [theme=dark] .colab-df-convert {\n",
       "      background-color: #3B4455;\n",
       "      fill: #D2E3FC;\n",
       "    }\n",
       "\n",
       "    [theme=dark] .colab-df-convert:hover {\n",
       "      background-color: #434B5C;\n",
       "      box-shadow: 0px 1px 3px 1px rgba(0, 0, 0, 0.15);\n",
       "      filter: drop-shadow(0px 1px 2px rgba(0, 0, 0, 0.3));\n",
       "      fill: #FFFFFF;\n",
       "    }\n",
       "  </style>\n",
       "\n",
       "    <script>\n",
       "      const buttonEl =\n",
       "        document.querySelector('#df-12961e23-97a1-4b40-8e44-5a4c632b2eb8 button.colab-df-convert');\n",
       "      buttonEl.style.display =\n",
       "        google.colab.kernel.accessAllowed ? 'block' : 'none';\n",
       "\n",
       "      async function convertToInteractive(key) {\n",
       "        const element = document.querySelector('#df-12961e23-97a1-4b40-8e44-5a4c632b2eb8');\n",
       "        const dataTable =\n",
       "          await google.colab.kernel.invokeFunction('convertToInteractive',\n",
       "                                                    [key], {});\n",
       "        if (!dataTable) return;\n",
       "\n",
       "        const docLinkHtml = 'Like what you see? Visit the ' +\n",
       "          '<a target=\"_blank\" href=https://colab.research.google.com/notebooks/data_table.ipynb>data table notebook</a>'\n",
       "          + ' to learn more about interactive tables.';\n",
       "        element.innerHTML = '';\n",
       "        dataTable['output_type'] = 'display_data';\n",
       "        await google.colab.output.renderOutput(dataTable, element);\n",
       "        const docLink = document.createElement('div');\n",
       "        docLink.innerHTML = docLinkHtml;\n",
       "        element.appendChild(docLink);\n",
       "      }\n",
       "    </script>\n",
       "  </div>\n",
       "\n",
       "\n",
       "<div id=\"df-056bcdda-8176-419f-91b3-aa2c9160ea55\">\n",
       "  <button class=\"colab-df-quickchart\" onclick=\"quickchart('df-056bcdda-8176-419f-91b3-aa2c9160ea55')\"\n",
       "            title=\"Suggest charts.\"\n",
       "            style=\"display:none;\">\n",
       "\n",
       "<svg xmlns=\"http://www.w3.org/2000/svg\" height=\"24px\"viewBox=\"0 0 24 24\"\n",
       "     width=\"24px\">\n",
       "    <g>\n",
       "        <path d=\"M19 3H5c-1.1 0-2 .9-2 2v14c0 1.1.9 2 2 2h14c1.1 0 2-.9 2-2V5c0-1.1-.9-2-2-2zM9 17H7v-7h2v7zm4 0h-2V7h2v10zm4 0h-2v-4h2v4z\"/>\n",
       "    </g>\n",
       "</svg>\n",
       "  </button>\n",
       "\n",
       "<style>\n",
       "  .colab-df-quickchart {\n",
       "      --bg-color: #E8F0FE;\n",
       "      --fill-color: #1967D2;\n",
       "      --hover-bg-color: #E2EBFA;\n",
       "      --hover-fill-color: #174EA6;\n",
       "      --disabled-fill-color: #AAA;\n",
       "      --disabled-bg-color: #DDD;\n",
       "  }\n",
       "\n",
       "  [theme=dark] .colab-df-quickchart {\n",
       "      --bg-color: #3B4455;\n",
       "      --fill-color: #D2E3FC;\n",
       "      --hover-bg-color: #434B5C;\n",
       "      --hover-fill-color: #FFFFFF;\n",
       "      --disabled-bg-color: #3B4455;\n",
       "      --disabled-fill-color: #666;\n",
       "  }\n",
       "\n",
       "  .colab-df-quickchart {\n",
       "    background-color: var(--bg-color);\n",
       "    border: none;\n",
       "    border-radius: 50%;\n",
       "    cursor: pointer;\n",
       "    display: none;\n",
       "    fill: var(--fill-color);\n",
       "    height: 32px;\n",
       "    padding: 0;\n",
       "    width: 32px;\n",
       "  }\n",
       "\n",
       "  .colab-df-quickchart:hover {\n",
       "    background-color: var(--hover-bg-color);\n",
       "    box-shadow: 0 1px 2px rgba(60, 64, 67, 0.3), 0 1px 3px 1px rgba(60, 64, 67, 0.15);\n",
       "    fill: var(--button-hover-fill-color);\n",
       "  }\n",
       "\n",
       "  .colab-df-quickchart-complete:disabled,\n",
       "  .colab-df-quickchart-complete:disabled:hover {\n",
       "    background-color: var(--disabled-bg-color);\n",
       "    fill: var(--disabled-fill-color);\n",
       "    box-shadow: none;\n",
       "  }\n",
       "\n",
       "  .colab-df-spinner {\n",
       "    border: 2px solid var(--fill-color);\n",
       "    border-color: transparent;\n",
       "    border-bottom-color: var(--fill-color);\n",
       "    animation:\n",
       "      spin 1s steps(1) infinite;\n",
       "  }\n",
       "\n",
       "  @keyframes spin {\n",
       "    0% {\n",
       "      border-color: transparent;\n",
       "      border-bottom-color: var(--fill-color);\n",
       "      border-left-color: var(--fill-color);\n",
       "    }\n",
       "    20% {\n",
       "      border-color: transparent;\n",
       "      border-left-color: var(--fill-color);\n",
       "      border-top-color: var(--fill-color);\n",
       "    }\n",
       "    30% {\n",
       "      border-color: transparent;\n",
       "      border-left-color: var(--fill-color);\n",
       "      border-top-color: var(--fill-color);\n",
       "      border-right-color: var(--fill-color);\n",
       "    }\n",
       "    40% {\n",
       "      border-color: transparent;\n",
       "      border-right-color: var(--fill-color);\n",
       "      border-top-color: var(--fill-color);\n",
       "    }\n",
       "    60% {\n",
       "      border-color: transparent;\n",
       "      border-right-color: var(--fill-color);\n",
       "    }\n",
       "    80% {\n",
       "      border-color: transparent;\n",
       "      border-right-color: var(--fill-color);\n",
       "      border-bottom-color: var(--fill-color);\n",
       "    }\n",
       "    90% {\n",
       "      border-color: transparent;\n",
       "      border-bottom-color: var(--fill-color);\n",
       "    }\n",
       "  }\n",
       "</style>\n",
       "\n",
       "  <script>\n",
       "    async function quickchart(key) {\n",
       "      const quickchartButtonEl =\n",
       "        document.querySelector('#' + key + ' button');\n",
       "      quickchartButtonEl.disabled = true;  // To prevent multiple clicks.\n",
       "      quickchartButtonEl.classList.add('colab-df-spinner');\n",
       "      try {\n",
       "        const charts = await google.colab.kernel.invokeFunction(\n",
       "            'suggestCharts', [key], {});\n",
       "      } catch (error) {\n",
       "        console.error('Error during call to suggestCharts:', error);\n",
       "      }\n",
       "      quickchartButtonEl.classList.remove('colab-df-spinner');\n",
       "      quickchartButtonEl.classList.add('colab-df-quickchart-complete');\n",
       "    }\n",
       "    (() => {\n",
       "      let quickchartButtonEl =\n",
       "        document.querySelector('#df-056bcdda-8176-419f-91b3-aa2c9160ea55 button');\n",
       "      quickchartButtonEl.style.display =\n",
       "        google.colab.kernel.accessAllowed ? 'block' : 'none';\n",
       "    })();\n",
       "  </script>\n",
       "</div>\n",
       "    </div>\n",
       "  </div>\n"
      ],
      "text/plain": [
       "       train_loss  test_loss  accuracy\n",
       "epoch                                 \n",
       "1        0.625419   0.647696  0.868937\n",
       "2        0.943615   0.392774  0.820868\n",
       "3        0.868237   0.526727  0.811417\n",
       "4        0.679878   0.595202  0.740931\n",
       "5        0.919157   0.707734  0.831193\n",
       "6        0.997160   0.805146  0.771244\n",
       "7        0.622415   0.802428  0.896222\n",
       "8        0.525216   0.243878  0.766216\n",
       "9        0.212123   0.826357  0.844563\n",
       "10       0.901962   0.319834  0.896266"
      ]
     },
     "execution_count": 144,
     "metadata": {},
     "output_type": "execute_result"
    }
   ],
   "source": [
    "perfs = []\n",
    "for epoch in range(1, 11):\n",
    "    train_loss = random.uniform(0.1, 1.0)  # Pérdida de entrenamiento aleatoria\n",
    "    test_loss = random.uniform(0.1, 1.0)   # Pérdida de prueba aleatoria\n",
    "    accuracy = random.uniform(0.7, 0.9)     # Precisión aleatoria\n",
    "    perfs.append([epoch, train_loss, test_loss, accuracy])\n",
    "df_perfs = pd.DataFrame(perfs, columns=[\"epoch\", \"train_loss\", \"test_loss\", \"accuracy\"]).set_index(\"epoch\")\n",
    "#Impresion del dataframe\n",
    "df_perfs"
   ]
  },
  {
   "cell_type": "code",
   "execution_count": 145,
   "metadata": {
    "colab": {
     "base_uri": "https://localhost:8080/",
     "height": 408
    },
    "id": "dc9nGtDlyAvX",
    "outputId": "3086751e-46c0-41bd-8c71-97592b790f57"
   },
   "outputs": [
    {
     "name": "stdout",
     "output_type": "stream",
     "text": [
      "Last accuracy 0.8962656153079334\n"
     ]
    },
    {
     "data": {
      "image/png": "[encoded data removed]",
      "text/plain": [
       "<Figure size 1200x400 with 2 Axes>"
      ]
     },
     "metadata": {},
     "output_type": "display_data"
    }
   ],
   "source": [
    "#Grafica de la perdida en el entrenamiento, en las pruebas y la exactitud de los datos de prueba\n",
    "f, (ax1, ax2) = plt.subplots(1, 2, figsize=(12, 4))\n",
    "print(\"Last accuracy {0}\".format(df_perfs.accuracy.iloc[-1]))\n",
    "df_perfs[[\"train_loss\", \"test_loss\"]].plot(ax=ax1);\n",
    "df_perfs[[\"accuracy\"]].plot(ax=ax2);\n",
    "plt.ylim(ymin=0.5);"
   ]
  }
 ],
 "metadata": {
  "colab": {
   "provenance": []
  },
  "kernelspec": {
   "display_name": "Python 3 (ipykernel)",
   "language": "python",
   "name": "python3"
  },
  "language_info": {
   "codemirror_mode": {
    "name": "ipython",
    "version": 3
   },
   "file_extension": ".py",
   "mimetype": "text/x-python",
   "name": "python",
   "nbconvert_exporter": "python",
   "pygments_lexer": "ipython3",
   "version": "3.11.4"
  }
 },
 "nbformat": 4,
 "nbformat_minor": 1
}
