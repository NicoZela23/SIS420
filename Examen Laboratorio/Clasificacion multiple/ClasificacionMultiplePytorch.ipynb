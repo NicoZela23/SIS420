{
 "cells": [
  {
   "cell_type": "markdown",
   "metadata": {
    "id": "pE_iwdR5m6xH"
   },
   "source": [
    "[![Open In Colab](https://colab.research.google.com/assets/colab-badge.svg)](https://colab.research.google.com/github/sensioai/blog/blob/master/028_pytorch_nn/pytorch_nn.ipynb)"
   ]
  },
  {
   "cell_type": "markdown",
   "metadata": {
    "id": "_LvIr_H_M1ki"
   },
   "source": []
  },
  {
   "cell_type": "code",
   "execution_count": 1,
   "metadata": {
    "ExecuteTime": {
     "end_time": "2020-08-15T12:21:45.471625Z",
     "start_time": "2020-08-15T12:21:45.002765Z"
    },
    "id": "4hnzhQywm6xL"
   },
   "outputs": [],
   "source": [
    "import torch #Importar PyTorch\n",
    "\n",
    "import pandas as pd #Manipulación y análisis de datos tabulares\n",
    "\n",
    "from sklearn.preprocessing import LabelEncoder #Codificar etiquetas categóricas en valores numéricos.\n"
   ]
  },
  {
   "cell_type": "markdown",
   "metadata": {
    "id": "s3KvT2-nu4bo"
   },
   "source": [
    "Definir las dimensiones de entrada (D_in), la capa oculta (H) y la dimensión de salida (D_out) para una red neuronal."
   ]
  },
  {
   "cell_type": "code",
   "execution_count": 2,
   "metadata": {
    "ExecuteTime": {
     "end_time": "2020-08-15T12:21:45.486329Z",
     "start_time": "2020-08-15T12:21:45.472624Z"
    },
    "hidden": true,
    "id": "V5KEpUHVm6xN"
   },
   "outputs": [],
   "source": [
    "D_in, H, D_out = 784, 100, 10\n",
    "\n",
    "# Crear un modelo de red neuronal secuencial utilizando PyTorch.\n",
    "model = torch.nn.Sequential(\n",
    "    # Capa lineal que toma D_in entradas y produce H salidas, seguida de una función de activación ReLU.\n",
    "    torch.nn.Linear(D_in, H),\n",
    "    torch.nn.ReLU(),\n",
    "    # Otra capa lineal que toma las H salidas anteriores y produce D_out salidas (en este caso, 10 salidas para la clasificación de 10 clases).\n",
    "    torch.nn.Linear(H, D_out),\n",
    ")\n"
   ]
  },
  {
   "cell_type": "markdown",
   "metadata": {
    "id": "uhknlVYrvKNy"
   },
   "source": [
    "Realizar una inferencia en el modelo de red neuronal 'model' utilizando datos de entrada aleatorios con forma (64, 784).\n",
    "\n",
    "Mostrar la forma de las salidas calculadas por el modelo. Esto te dará la forma de los resultados de la inferencia.\n",
    "En este caso, 'outputs' contendrá un tensor con forma (64, 10), ya que el modelo tiene una capa de salida con 10 unidades."
   ]
  },
  {
   "cell_type": "code",
   "execution_count": 3,
   "metadata": {
    "ExecuteTime": {
     "end_time": "2020-08-15T12:21:45.502329Z",
     "start_time": "2020-08-15T12:21:45.487329Z"
    },
    "colab": {
     "base_uri": "https://localhost:8080/"
    },
    "hidden": true,
    "id": "WVB30MPem6xO",
    "outputId": "19aff10a-8c2a-432d-8c36-63c56e9d76c2"
   },
   "outputs": [
    {
     "data": {
      "text/plain": [
       "torch.Size([64, 10])"
      ]
     },
     "execution_count": 3,
     "metadata": {},
     "output_type": "execute_result"
    }
   ],
   "source": [
    "outputs = model(torch.randn(64, 784))\n",
    "outputs.shape"
   ]
  },
  {
   "cell_type": "markdown",
   "metadata": {
    "id": "vAGJgAUIvp8C"
   },
   "source": [
    "Imprimir los valores de la primera fila (primer ejemplo) de las salidas 'outputs'.\n",
    "'outputs' es un tensor con forma (64, 10), por lo que esto imprimirá los 10 valores correspondientes al primer ejemplo."
   ]
  },
  {
   "cell_type": "code",
   "execution_count": 4,
   "metadata": {
    "colab": {
     "base_uri": "https://localhost:8080/"
    },
    "id": "x7mk9EVzLeBV",
    "outputId": "b72bbbe7-9251-4d3d-8739-326518e3a0ad"
   },
   "outputs": [
    {
     "name": "stdout",
     "output_type": "stream",
     "text": [
      "tensor([-0.0783,  0.2189, -0.1786, -0.3281,  0.1013,  0.1278,  0.2317, -0.1106,\n",
      "        -0.3287,  0.1816], grad_fn=<SliceBackward0>)\n"
     ]
    }
   ],
   "source": [
    "print(outputs[0][:])"
   ]
  },
  {
   "cell_type": "markdown",
   "metadata": {
    "hidden": true,
    "id": "I-J9Sa6Qm6xP"
   },
   "source": [
    "Mover el modelo 'model' desde la CPU a la GPU (Dispositivo de Unidad de Procesamiento Gráfico) utilizando el método 'to'.\n",
    "\n",
    "Después de esta operación, las operaciones de la red neuronal se realizarán en la GPU, lo que puede acelerar el entrenamiento y la inferencia si se dispone de una GPU compatible.\n"
   ]
  },
  {
   "cell_type": "code",
   "execution_count": 5,
   "metadata": {
    "ExecuteTime": {
     "end_time": "2020-08-15T12:21:46.777020Z",
     "start_time": "2020-08-15T12:21:45.503329Z"
    },
    "colab": {
     "base_uri": "https://localhost:8080/"
    },
    "hidden": true,
    "id": "VjtJxIM_m6xQ",
    "outputId": "4ba6944d-5fd2-44ae-ae2b-c203a2477aaf"
   },
   "outputs": [
    {
     "data": {
      "text/plain": [
       "Sequential(\n",
       "  (0): Linear(in_features=784, out_features=100, bias=True)\n",
       "  (1): ReLU()\n",
       "  (2): Linear(in_features=100, out_features=10, bias=True)\n",
       ")"
      ]
     },
     "execution_count": 5,
     "metadata": {},
     "output_type": "execute_result"
    }
   ],
   "source": [
    "model.to(\"cuda\")"
   ]
  },
  {
   "cell_type": "markdown",
   "metadata": {
    "hidden": true,
    "id": "ZxmpSqz6m6xQ"
   },
   "source": [
    "Vamos a ver ahora como entrenar este modelo con el dataset MNIST."
   ]
  },
  {
   "cell_type": "code",
   "execution_count": 7,
   "metadata": {
    "ExecuteTime": {
     "end_time": "2020-08-15T12:22:05.622262Z",
     "start_time": "2020-08-15T12:21:46.778019Z"
    },
    "colab": {
     "base_uri": "https://localhost:8080/"
    },
    "hidden": true,
    "id": "OmlXe8Gpm6xR",
    "outputId": "befaa1f3-2442-4041-f15d-b412eb062f30"
   },
   "outputs": [
    {
     "data": {
      "text/plain": [
       "((54894, 784), (54894,))"
      ]
     },
     "execution_count": 7,
     "metadata": {},
     "output_type": "execute_result"
    }
   ],
   "source": [
    "#Tratamiento y manejo de datos\n",
    "data = pd.read_csv('Glyphs_updated.csv')\n",
    "\n",
    "# Eliminar todas las columnas con valores NaN\n",
    "data = data.dropna(axis=1)\n",
    "\n",
    "# Llenar los valores faltantes con un valor específico, como cero (0)\n",
    "data = data.fillna(0)\n",
    "\n",
    "Y = data['label']\n",
    "X = data.drop(columns=['label'])\n",
    "\n",
    "X = X.apply(pd.to_numeric, errors='coerce')\n",
    "X = X.fillna(0)\n",
    "\n",
    "letras = data['label'].unique()  # Obtiene todas las letras únicas en la columna 'label'\n",
    "mapeo_letras = {letra: i for i, letra in enumerate(letras)}\n",
    "\n",
    "X.shape, Y.shape"
   ]
  },
  {
   "cell_type": "code",
   "execution_count": 8,
   "metadata": {
    "ExecuteTime": {
     "end_time": "2020-08-15T12:22:05.761911Z",
     "start_time": "2020-08-15T12:22:05.624102Z"
    },
    "hidden": true,
    "id": "BzhE25udm6xR"
   },
   "outputs": [],
   "source": [
    "import numpy as np\n",
    "\n",
    "# Crear un arreglo NumPy 'x_2' a partir de la variable 'X'.\n",
    "x_2 = np.array(X)\n",
    "\n",
    "# Mapear las etiquetas de clase en 'data' utilizando el diccionario 'mapeo_letras' y almacenar el resultado en 'y_2'.\n",
    "data['label'] = data['label'].map(mapeo_letras)\n",
    "y_2 = np.array(data['label'].values)\n",
    "\n",
    "# Normalizar los datos dividiendo cada valor en 'x_2' entre 255. Esto escala los valores de píxeles al rango [0, 1].\n",
    "X_train = x_2[:34894] / 255.  # Conjunto de entrenamiento\n",
    "X_test = x_2[20000:] / 255.   # Conjunto de prueba\n",
    "\n",
    "# Dividir las etiquetas en conjuntos de entrenamiento y prueba.\n",
    "y_train = y_2[:34894]  # Etiquetas de entrenamiento\n",
    "y_test = y_2[:20000]   # Etiquetas de prueba"
   ]
  },
  {
   "cell_type": "markdown",
   "metadata": {
    "id": "Tfa1Ky8_wbFK"
   },
   "source": [
    "Definir una función de softmax que toma un tensor 'x' como entrada y calcula las probabilidades de clase softmax.\n",
    "Definir una función de pérdida de entropía cruzada que toma las salidas 'output' del modelo y las etiquetas 'target' como entrada."
   ]
  },
  {
   "cell_type": "code",
   "execution_count": 9,
   "metadata": {
    "ExecuteTime": {
     "end_time": "2020-08-15T12:22:05.777964Z",
     "start_time": "2020-08-15T12:22:05.763102Z"
    },
    "hidden": true,
    "id": "pDJK07Jpm6xR"
   },
   "outputs": [],
   "source": [
    "def softmax(x):\n",
    "    return torch.exp(x) / torch.exp(x).sum(axis=-1, keepdims=True)\n",
    "\n",
    "def cross_entropy(output, target):\n",
    "    # Calcular los log-softmax de las salidas para obtener los logits de las clases correctas.\n",
    "    logits = output[torch.arange(len(output)), target]\n",
    "\n",
    "    # Calcular la pérdida de entropía cruzada mediante la fórmula -log(p(y_true)) + log(sum(exp(p(y_i)))).\n",
    "    loss = -logits + torch.log(torch.sum(torch.exp(output), axis=-1))\n",
    "\n",
    "    # Calcular el promedio de la pérdida a través de los ejemplos en el lote.\n",
    "    loss = loss.mean()\n",
    "\n",
    "    return loss"
   ]
  },
  {
   "cell_type": "markdown",
   "metadata": {
    "id": "wYpumSiqwmXY"
   },
   "source": [
    "Comprobar si la GPU (Unidad de Procesamiento Gráfico) está disponible para su uso con PyTorch."
   ]
  },
  {
   "cell_type": "code",
   "execution_count": 10,
   "metadata": {
    "colab": {
     "base_uri": "https://localhost:8080/"
    },
    "id": "qHL3LiGejvr0",
    "outputId": "8cb98664-3b72-4df8-e2ae-deb2ff4f2121"
   },
   "outputs": [
    {
     "data": {
      "text/plain": [
       "True"
      ]
     },
     "execution_count": 10,
     "metadata": {},
     "output_type": "execute_result"
    }
   ],
   "source": [
    "torch.cuda.is_available()"
   ]
  },
  {
   "cell_type": "code",
   "execution_count": 11,
   "metadata": {
    "colab": {
     "base_uri": "https://localhost:8080/"
    },
    "id": "tZCJjxDZyenK",
    "outputId": "3969802b-4be1-4f88-edb3-45b821d25e9c"
   },
   "outputs": [
    {
     "name": "stdout",
     "output_type": "stream",
     "text": [
      "       1  2  3  4  5  6  7  8  9  10  ...  775  776  777  778  779  780  781  \\\n",
      "0      0  0  0  0  0  0  0  0  0   0  ...    0    0    0    0    0    0    0   \n",
      "1      0  0  0  0  0  0  0  0  0   0  ...    0    0    0    0    0    0    0   \n",
      "2      0  0  0  0  0  0  0  0  0   0  ...    0    0    0    0    0    0    0   \n",
      "3      0  0  0  0  0  0  0  0  0   0  ...    0    0    0    0    0    0    0   \n",
      "4      0  0  0  0  0  0  0  0  0   0  ...    0    0    0    0    0    0    0   \n",
      "...   .. .. .. .. .. .. .. .. ..  ..  ...  ...  ...  ...  ...  ...  ...  ...   \n",
      "54889  0  0  0  0  0  0  0  0  0   0  ...    0    0    0    0    0    0    0   \n",
      "54890  0  0  0  0  0  0  0  0  0   0  ...    0    0    0    0    0    0    0   \n",
      "54891  0  0  0  0  0  0  0  0  0   0  ...    0    0    0    0    0    0    0   \n",
      "54892  0  0  0  0  0  0  0  0  0   0  ...    0    0    0    0    0    0    0   \n",
      "54893  0  0  0  0  0  0  0  0  0   0  ...    0    0    0    0    0    0    0   \n",
      "\n",
      "       782  783  784  \n",
      "0        0    0    0  \n",
      "1        0    0    0  \n",
      "2        0    0    0  \n",
      "3        0    0    0  \n",
      "4        0    0    0  \n",
      "...    ...  ...  ...  \n",
      "54889    0    0    0  \n",
      "54890    0    0    0  \n",
      "54891    0    0    0  \n",
      "54892    0    0    0  \n",
      "54893    0    0    0  \n",
      "\n",
      "[54894 rows x 784 columns]\n"
     ]
    }
   ],
   "source": [
    "print(X)"
   ]
  },
  {
   "cell_type": "code",
   "execution_count": 12,
   "metadata": {
    "colab": {
     "base_uri": "https://localhost:8080/"
    },
    "id": "7LaPNxI5Nm5b",
    "outputId": "4c3a9510-2f05-4498-872c-53e083b14b2d"
   },
   "outputs": [
    {
     "name": "stdout",
     "output_type": "stream",
     "text": [
      "[  0   1   2 ...  98 110 111]\n"
     ]
    },
    {
     "data": {
      "text/plain": [
       "dtype('int64')"
      ]
     },
     "execution_count": 12,
     "metadata": {},
     "output_type": "execute_result"
    }
   ],
   "source": [
    "print(y_train)\n",
    "y_train.dtype"
   ]
  },
  {
   "cell_type": "markdown",
   "metadata": {
    "id": "1Kz0FjcPw5FP"
   },
   "source": [
    "Convertir los datos de entrenamiento 'X_train' y 'y_train' a tensores de PyTorch y copiarlos a la GPU."
   ]
  },
  {
   "cell_type": "code",
   "execution_count": 13,
   "metadata": {
    "ExecuteTime": {
     "end_time": "2020-08-15T12:22:07.268014Z",
     "start_time": "2020-08-15T12:22:05.778966Z"
    },
    "colab": {
     "base_uri": "https://localhost:8080/",
     "height": 418
    },
    "hidden": true,
    "id": "EjdhOJ90m6xS",
    "outputId": "0d2cb596-ccaa-4f68-ef49-6a45806c0415"
   },
   "outputs": [
    {
     "ename": "RuntimeError",
     "evalue": "ignored",
     "output_type": "error",
     "traceback": [
      "\u001b[0;31m---------------------------------------------------------------------------\u001b[0m",
      "\u001b[0;31mRuntimeError\u001b[0m                              Traceback (most recent call last)",
      "\u001b[0;32m<ipython-input-13-7634be4e4a39>\u001b[0m in \u001b[0;36m<cell line: 10>\u001b[0;34m()\u001b[0m\n\u001b[1;32m     14\u001b[0m \u001b[0;34m\u001b[0m\u001b[0m\n\u001b[1;32m     15\u001b[0m     \u001b[0;31m# loss\u001b[0m\u001b[0;34m\u001b[0m\u001b[0;34m\u001b[0m\u001b[0m\n\u001b[0;32m---> 16\u001b[0;31m     \u001b[0mloss\u001b[0m \u001b[0;34m=\u001b[0m \u001b[0mcross_entropy\u001b[0m\u001b[0;34m(\u001b[0m\u001b[0my_pred\u001b[0m\u001b[0;34m,\u001b[0m \u001b[0mY_t\u001b[0m\u001b[0;34m)\u001b[0m\u001b[0;34m\u001b[0m\u001b[0;34m\u001b[0m\u001b[0m\n\u001b[0m\u001b[1;32m     17\u001b[0m     \u001b[0ml\u001b[0m\u001b[0;34m.\u001b[0m\u001b[0mappend\u001b[0m\u001b[0;34m(\u001b[0m\u001b[0mloss\u001b[0m\u001b[0;34m.\u001b[0m\u001b[0mitem\u001b[0m\u001b[0;34m(\u001b[0m\u001b[0;34m)\u001b[0m\u001b[0;34m)\u001b[0m\u001b[0;34m\u001b[0m\u001b[0;34m\u001b[0m\u001b[0m\n\u001b[1;32m     18\u001b[0m \u001b[0;34m\u001b[0m\u001b[0m\n",
      "\u001b[0;32m<ipython-input-9-3d5fda269b2f>\u001b[0m in \u001b[0;36mcross_entropy\u001b[0;34m(output, target)\u001b[0m\n\u001b[1;32m      6\u001b[0m \u001b[0;32mdef\u001b[0m \u001b[0mcross_entropy\u001b[0m\u001b[0;34m(\u001b[0m\u001b[0moutput\u001b[0m\u001b[0;34m,\u001b[0m \u001b[0mtarget\u001b[0m\u001b[0;34m)\u001b[0m\u001b[0;34m:\u001b[0m\u001b[0;34m\u001b[0m\u001b[0;34m\u001b[0m\u001b[0m\n\u001b[1;32m      7\u001b[0m     \u001b[0mlogits\u001b[0m \u001b[0;34m=\u001b[0m \u001b[0moutput\u001b[0m\u001b[0;34m[\u001b[0m\u001b[0mtorch\u001b[0m\u001b[0;34m.\u001b[0m\u001b[0marange\u001b[0m\u001b[0;34m(\u001b[0m\u001b[0mlen\u001b[0m\u001b[0;34m(\u001b[0m\u001b[0moutput\u001b[0m\u001b[0;34m)\u001b[0m\u001b[0;34m)\u001b[0m\u001b[0;34m,\u001b[0m \u001b[0mtarget\u001b[0m\u001b[0;34m]\u001b[0m\u001b[0;34m\u001b[0m\u001b[0;34m\u001b[0m\u001b[0m\n\u001b[0;32m----> 8\u001b[0;31m     \u001b[0mloss\u001b[0m \u001b[0;34m=\u001b[0m \u001b[0;34m-\u001b[0m \u001b[0mlogits\u001b[0m \u001b[0;34m+\u001b[0m \u001b[0mtorch\u001b[0m\u001b[0;34m.\u001b[0m\u001b[0mlog\u001b[0m\u001b[0;34m(\u001b[0m\u001b[0mtorch\u001b[0m\u001b[0;34m.\u001b[0m\u001b[0msum\u001b[0m\u001b[0;34m(\u001b[0m\u001b[0mtorch\u001b[0m\u001b[0;34m.\u001b[0m\u001b[0mexp\u001b[0m\u001b[0;34m(\u001b[0m\u001b[0moutput\u001b[0m\u001b[0;34m)\u001b[0m\u001b[0;34m,\u001b[0m \u001b[0maxis\u001b[0m\u001b[0;34m=\u001b[0m\u001b[0;34m-\u001b[0m\u001b[0;36m1\u001b[0m\u001b[0;34m)\u001b[0m\u001b[0;34m)\u001b[0m\u001b[0;34m\u001b[0m\u001b[0;34m\u001b[0m\u001b[0m\n\u001b[0m\u001b[1;32m      9\u001b[0m     \u001b[0mloss\u001b[0m \u001b[0;34m=\u001b[0m \u001b[0mloss\u001b[0m\u001b[0;34m.\u001b[0m\u001b[0mmean\u001b[0m\u001b[0;34m(\u001b[0m\u001b[0;34m)\u001b[0m\u001b[0;34m\u001b[0m\u001b[0;34m\u001b[0m\u001b[0m\n\u001b[1;32m     10\u001b[0m     \u001b[0;32mreturn\u001b[0m \u001b[0mloss\u001b[0m\u001b[0;34m\u001b[0m\u001b[0;34m\u001b[0m\u001b[0m\n",
      "\u001b[0;31mRuntimeError\u001b[0m: CUDA error: device-side assert triggered\nCUDA kernel errors might be asynchronously reported at some other API call, so the stacktrace below might be incorrect.\nFor debugging consider passing CUDA_LAUNCH_BLOCKING=1.\nCompile with `TORCH_USE_CUDA_DSA` to enable device-side assertions.\n"
     ]
    }
   ],
   "source": [
    "X_t = torch.from_numpy(X_train).float().cuda()\n",
    "Y_t = torch.from_numpy(y_train).long().cuda()\n",
    "\n",
    "# Configurar el número de épocas (epochs) y la tasa de aprendizaje (lr).\n",
    "epochs = 100\n",
    "lr = 0.8\n",
    "\n",
    "# Especificar la frecuencia con la que se registrará el valor de la función de pérdida durante el entrenamiento.\n",
    "log_each = 10\n",
    "\n",
    "# Lista 'l' para almacenar los valores de pérdida en cada época.\n",
    "l = []\n",
    "\n",
    "# Bucle de entrenamiento.\n",
    "for e in range(1, epochs + 1):\n",
    "    # Realizar el pase hacia adelante (forward pass) a través del modelo para obtener las predicciones 'y_pred'.\n",
    "    y_pred = model(X_t)\n",
    "\n",
    "    # Calcular la función de pérdida utilizando las predicciones y las etiquetas de entrenamiento.\n",
    "    loss = cross_entropy(y_pred, Y_t)\n",
    "\n",
    "    # Registrar el valor de pérdida en la lista 'l'.\n",
    "    l.append(loss.item())\n",
    "\n",
    "    # Establecer los gradientes en cero para evitar acumulaciones.\n",
    "    model.zero_grad()\n",
    "\n",
    "    # Realizar el pase hacia atrás (backward pass) para calcular los gradientes automáticamente.\n",
    "    loss.backward()\n",
    "\n",
    "    # Actualizar los pesos del modelo utilizando el descenso de gradiente.\n",
    "    with torch.no_grad():\n",
    "        for param in model.parameters():\n",
    "            param -= lr * param.grad\n",
    "\n",
    "    # Limpiar la caché de la GPU para liberar memoria.\n",
    "    torch.cuda.empty_cache()\n",
    "\n",
    "    # Imprimir el valor de pérdida cada 'log_each' épocas.\n",
    "    if not e % log_each:\n",
    "        print(f\"Epoch {e}/{epochs} Loss {np.mean(l):.5f}\")\n"
   ]
  },
  {
   "cell_type": "markdown",
   "metadata": {
    "id": "6tqRoB02xDkP"
   },
   "source": [
    "Importar la función accuracy_score de Scikit-Learn para evaluar la precisión de las predicciones.\n"
   ]
  },
  {
   "cell_type": "code",
   "execution_count": 14,
   "metadata": {
    "ExecuteTime": {
     "end_time": "2020-08-15T12:22:07.312014Z",
     "start_time": "2020-08-15T12:22:07.270016Z"
    },
    "colab": {
     "base_uri": "https://localhost:8080/",
     "height": 279
    },
    "hidden": true,
    "id": "Ufomq0IIm6xT",
    "outputId": "5625a33c-11f1-481b-cefa-c6c5d6c49296"
   },
   "outputs": [
    {
     "ename": "RuntimeError",
     "evalue": "ignored",
     "output_type": "error",
     "traceback": [
      "\u001b[0;31m---------------------------------------------------------------------------\u001b[0m",
      "\u001b[0;31mRuntimeError\u001b[0m                              Traceback (most recent call last)",
      "\u001b[0;32m<ipython-input-14-be5915d36337>\u001b[0m in \u001b[0;36m<cell line: 9>\u001b[0;34m()\u001b[0m\n\u001b[1;32m      7\u001b[0m     \u001b[0;32mreturn\u001b[0m \u001b[0mtorch\u001b[0m\u001b[0;34m.\u001b[0m\u001b[0margmax\u001b[0m\u001b[0;34m(\u001b[0m\u001b[0my_probas\u001b[0m\u001b[0;34m,\u001b[0m \u001b[0maxis\u001b[0m\u001b[0;34m=\u001b[0m\u001b[0;36m1\u001b[0m\u001b[0;34m)\u001b[0m\u001b[0;34m\u001b[0m\u001b[0;34m\u001b[0m\u001b[0m\n\u001b[1;32m      8\u001b[0m \u001b[0;34m\u001b[0m\u001b[0m\n\u001b[0;32m----> 9\u001b[0;31m \u001b[0my_pred\u001b[0m \u001b[0;34m=\u001b[0m \u001b[0mevaluate\u001b[0m\u001b[0;34m(\u001b[0m\u001b[0mtorch\u001b[0m\u001b[0;34m.\u001b[0m\u001b[0mfrom_numpy\u001b[0m\u001b[0;34m(\u001b[0m\u001b[0mX_test\u001b[0m\u001b[0;34m)\u001b[0m\u001b[0;34m.\u001b[0m\u001b[0mfloat\u001b[0m\u001b[0;34m(\u001b[0m\u001b[0;34m)\u001b[0m\u001b[0;34m.\u001b[0m\u001b[0mcuda\u001b[0m\u001b[0;34m(\u001b[0m\u001b[0;34m)\u001b[0m\u001b[0;34m)\u001b[0m\u001b[0;34m\u001b[0m\u001b[0;34m\u001b[0m\u001b[0m\n\u001b[0m\u001b[1;32m     10\u001b[0m \u001b[0maccuracy_score\u001b[0m\u001b[0;34m(\u001b[0m\u001b[0my_test\u001b[0m\u001b[0;34m,\u001b[0m \u001b[0my_pred\u001b[0m\u001b[0;34m.\u001b[0m\u001b[0mcpu\u001b[0m\u001b[0;34m(\u001b[0m\u001b[0;34m)\u001b[0m\u001b[0;34m.\u001b[0m\u001b[0mnumpy\u001b[0m\u001b[0;34m(\u001b[0m\u001b[0;34m)\u001b[0m\u001b[0;34m)\u001b[0m\u001b[0;34m\u001b[0m\u001b[0;34m\u001b[0m\u001b[0m\n",
      "\u001b[0;31mRuntimeError\u001b[0m: CUDA error: device-side assert triggered\nCUDA kernel errors might be asynchronously reported at some other API call, so the stacktrace below might be incorrect.\nFor debugging consider passing CUDA_LAUNCH_BLOCKING=1.\nCompile with `TORCH_USE_CUDA_DSA` to enable device-side assertions.\n"
     ]
    }
   ],
   "source": [
    "\n",
    "from sklearn.metrics import accuracy_score\n",
    "\n",
    "# Definir una función 'evaluate' que toma un conjunto de datos 'x' como entrada y realiza evaluación utilizando el modelo.\n",
    "def evaluate(x):\n",
    "    # Cambiar el modo del modelo a evaluación (no entrenamiento).\n",
    "    model.eval()\n",
    "\n",
    "    # Obtener las predicciones 'y_pred' del modelo para el conjunto de datos 'x'.\n",
    "    y_pred = model(x)\n",
    "\n",
    "    # Aplicar la función de softmax a las predicciones 'y_pred' para obtener probabilidades de clase.\n",
    "    y_probas = softmax(y_pred)\n",
    "\n",
    "    # Encontrar la etiqueta de clase predicha tomando el índice del valor máximo en las probabilidades.\n",
    "    return torch.argmax(y_probas, axis=1)\n",
    "\n",
    "# Llamar a la función 'evaluate' con el conjunto de prueba 'X_test', convertir las predicciones a tensores en la GPU y calcular la precisión.\n",
    "y_pred = evaluate(torch.from_numpy(X_test).float().cuda())\n",
    "\n",
    "# Calcular la precisión comparando las etiquetas reales 'y_test' con las etiquetas predichas 'y_pred'.\n",
    "accuracy = accuracy_score(y_test, y_pred.cpu().numpy())\n",
    "\n",
    "# La variable 'accuracy' contiene la precisión del modelo en el conjunto de prueba.\n"
   ]
  }
 ],
 "metadata": {
  "accelerator": "GPU",
  "colab": {
   "gpuType": "T4",
   "provenance": []
  },
  "kernelspec": {
   "display_name": "Python 3 (ipykernel)",
   "language": "python",
   "name": "python3"
  },
  "language_info": {
   "codemirror_mode": {
    "name": "ipython",
    "version": 3
   },
   "file_extension": ".py",
   "mimetype": "text/x-python",
   "name": "python",
   "nbconvert_exporter": "python",
   "pygments_lexer": "ipython3",
   "version": "3.11.4"
  },
  "toc": {
   "base_numbering": 1,
   "nav_menu": {},
   "number_sections": true,
   "sideBar": true,
   "skip_h1_title": false,
   "title_cell": "Table of Contents",
   "title_sidebar": "Contents",
   "toc_cell": false,
   "toc_position": {
    "height": "calc(100% - 180px)",
    "left": "10px",
    "top": "150px",
    "width": "233.594px"
   },
   "toc_section_display": true,
   "toc_window_display": false
  }
 },
 "nbformat": 4,
 "nbformat_minor": 1
}
