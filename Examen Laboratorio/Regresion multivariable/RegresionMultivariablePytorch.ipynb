{
  "nbformat": 4,
  "nbformat_minor": 0,
  "metadata": {
    "colab": {
      "provenance": []
    },
    "kernelspec": {
      "name": "python3",
      "display_name": "Python 3"
    },
    "language_info": {
      "name": "python"
    }
  },
  "cells": [
    {
      "cell_type": "code",
      "execution_count": 1,
      "metadata": {
        "id": "PZ_4s4Eoi_ra"
      },
      "outputs": [],
      "source": [
        "import torch  #Construir y entrenar redes neuronales\n",
        "import torch.nn as nn  #Definir arquitecturas de redes neuronales\n",
        "import torch.optim as optim  #Optimizadores de entrenamiento\n",
        "import pandas as pd  #Manipulación de datos tabulares\n",
        "import numpy as np  #Operaciones numéricas\n",
        "from sklearn.model_selection import train_test_split  #Dividir datos en conjuntos de entrenamiento y prueba\n",
        "from sklearn.preprocessing import StandardScaler  #Normalizacion de datos\n",
        "import matplotlib.pyplot as plt  # Matplotlib para visualizar resultados y gráficos"
      ]
    },
    {
      "cell_type": "code",
      "source": [
        "#Lectura de datos\n",
        "data = pd.read_csv('soybean_JUL14_Clean_File.csv')\n",
        "\n",
        "data = data.dropna()\n",
        "data = data.fillna(0)\n",
        "\n",
        "y = data[['TotalOpenInt']]\n",
        "X = data.drop(columns=['TotalOpenInt'])\n",
        "\n",
        "# Convierte las columnas a arreglos numpy\n",
        "X = X.to_numpy(dtype=np.float32)\n",
        "y = y.to_numpy(dtype=np.float32)\n",
        "\n",
        "# Normalizar los datos\n",
        "scaler_X = StandardScaler()\n",
        "X = scaler_X.fit_transform(X)\n",
        "\n",
        "scaler_y = StandardScaler()\n",
        "y = scaler_y.fit_transform(y)\n",
        "\n",
        "# Convierte los datos de numpy a tensores de PyTorch\n",
        "X = torch.tensor(X)\n",
        "y = torch.tensor(y)"
      ],
      "metadata": {
        "id": "d63HI5kWkikc"
      },
      "execution_count": 2,
      "outputs": []
    },
    {
      "cell_type": "code",
      "source": [
        "# Divide los datos en conjuntos de entrenamiento y prueba\n",
        "X_train, X_test, y_train, y_test = train_test_split(X, y, test_size=0.2, random_state=42)"
      ],
      "metadata": {
        "id": "_AMy--F0kztK"
      },
      "execution_count": 3,
      "outputs": []
    },
    {
      "cell_type": "markdown",
      "source": [
        "En esta clase llamada \"RegresionLineal\", se define un modelo de regresión lineal utilizando PyTorch.\n",
        "El constructor \"__init__\" toma dos argumentos: \"input_size\" y \"output_size\", que representan las dimensiones de entrada y salida del modelo.\n",
        "Dentro del constructor, se crea una capa lineal (nn.Linear) que mapea \"input_size\" características de entrada a \"output_size\" características de salida.\n",
        "La función \"forward\" define cómo se realiza la propagación hacia adelante en el modelo, simplemente aplicando la capa lineal a las entradas."
      ],
      "metadata": {
        "id": "jwpka11i-bdr"
      }
    },
    {
      "cell_type": "code",
      "source": [
        "# Definición de una clase para un modelo de regresión lineal en PyTorch\n",
        "\n",
        "class RegresionLineal(nn.Module):\n",
        "    def __init__(self, input_size, output_size):\n",
        "        super(RegresionLineal, self).__init__()\n",
        "        self.linear = nn.Linear(input_size, output_size)\n",
        "\n",
        "    def forward(self, x):\n",
        "        return self.linear(x)\n",
        "# Dimensiones de entrada y salida del modelo\n",
        "input_size = X.shape[1]  # El número de características en X\n",
        "output_size = 1  # Una sola salida en el modelo de regresión lineal\n"
      ],
      "metadata": {
        "id": "jDxECUMfmw-_"
      },
      "execution_count": 4,
      "outputs": []
    },
    {
      "cell_type": "code",
      "source": [
        "# Crear una instancia del modelo\n",
        "modelo = RegresionLineal(input_size, output_size)"
      ],
      "metadata": {
        "id": "UOGMkBg5m1ON"
      },
      "execution_count": 5,
      "outputs": []
    },
    {
      "cell_type": "markdown",
      "source": [
        "\"modelo.parameters()\" se utiliza para obtener los parámetros entrenables del modelo.\n",
        "\"lr=0.01\" establece la tasa de aprendizaje, que controla el tamaño de los pasos de actualización durante el entrenamiento."
      ],
      "metadata": {
        "id": "Q_6oW5SA-th3"
      }
    },
    {
      "cell_type": "code",
      "source": [
        "# Definición de la función de pérdida (criterio) y el optimizador para el modelo de regresión lineal\n",
        "\n",
        "criterio = nn.MSELoss()  # Error cuadrático medio (MSE): Se utiliza para medir la discrepancia entre las predicciones y los valores reales.\n",
        "optimizador = optim.SGD(modelo.parameters(), lr=0.01)  # Descenso de gradiente estocástico (SGD): Un algoritmo de optimización para ajustar los pesos del modelo durante el entrenamiento."
      ],
      "metadata": {
        "id": "RsQ4bYMDm3dg"
      },
      "execution_count": 6,
      "outputs": []
    },
    {
      "cell_type": "markdown",
      "source": [
        "En este bucle de entrenamiento, se realizan los siguientes pasos en cada época:\n",
        "1. Se calculan las predicciones del modelo en el conjunto de entrenamiento (propagación hacia adelante).\n",
        "2. Se calcula la pérdida utilizando la función de pérdida (criterio).\n",
        "3. Se reinician los gradientes del optimizador.\n",
        "4. Se calculan los gradientes retropropagando la pérdida a través del modelo (retropropagación).\n",
        "5. Se actualizan los pesos del modelo utilizando el optimizador.\n",
        "6. Se imprime la pérdida cada 100 épocas para monitorear el progreso del entrenamiento."
      ],
      "metadata": {
        "id": "tSqcYroP_ASC"
      }
    },
    {
      "cell_type": "code",
      "source": [
        "# Entrenamiento del modelo de regresión lineal\n",
        "\n",
        "num_epochs = 1000  # Número de épocas de entrenamiento\n",
        "for epoch in range(num_epochs):\n",
        "    # Forward pass (propagación hacia adelante)\n",
        "    outputs = modelo(X_train)  # Calcular las predicciones del modelo en el conjunto de entrenamiento\n",
        "    loss = criterio(outputs, y_train)  # Calcular la pérdida utilizando la función de pérdida (criterio)\n",
        "\n",
        "    # Backward pass (retropropagación) y optimización\n",
        "    optimizador.zero_grad()  # Reiniciar gradientes\n",
        "    loss.backward()  # Calcular gradientes retropropagando la pérdida\n",
        "    optimizador.step()  # Actualizar los pesos del modelo usando el optimizador\n",
        "\n",
        "    if (epoch + 1) % 100 == 0:\n",
        "        print(f'Época [{epoch + 1}/{num_epochs}], Pérdida: {loss.item():.4f}')\n",
        "\n"
      ],
      "metadata": {
        "colab": {
          "base_uri": "https://localhost:8080/"
        },
        "id": "9ROxM6VAm6_D",
        "outputId": "0c44c364-d3f7-45bb-a1de-b9d1fa3215d9"
      },
      "execution_count": 7,
      "outputs": [
        {
          "output_type": "stream",
          "name": "stdout",
          "text": [
            "Época [100/1000], Pérdida: 0.9437\n",
            "Época [200/1000], Pérdida: 0.9250\n",
            "Época [300/1000], Pérdida: 0.9166\n",
            "Época [400/1000], Pérdida: 0.9119\n",
            "Época [500/1000], Pérdida: 0.9093\n",
            "Época [600/1000], Pérdida: 0.9077\n",
            "Época [700/1000], Pérdida: 0.9069\n",
            "Época [800/1000], Pérdida: 0.9063\n",
            "Época [900/1000], Pérdida: 0.9060\n",
            "Época [1000/1000], Pérdida: 0.9058\n"
          ]
        }
      ]
    },
    {
      "cell_type": "markdown",
      "source": [
        "En este bloque de código, se evalúa el modelo en el conjunto de prueba después del entrenamiento.\n",
        "Se coloca el modelo en modo de evaluación para desactivar el seguimiento de gradientes y luego se calculan las predicciones en el conjunto de prueba.\n",
        "Las predicciones se imprimen en la consola para su visualización.\n",
        "Esto permite ver cómo el modelo está haciendo predicciones en datos no vistos sin afectar los pesos del modelo."
      ],
      "metadata": {
        "id": "mt45_vVZ_YPM"
      }
    },
    {
      "cell_type": "code",
      "source": [
        "# Evaluación del modelo en el conjunto de prueba\n",
        "\n",
        "modelo.eval()  # Poner el modelo en modo de evaluación (desactivar el seguimiento de gradientes)\n",
        "with torch.no_grad():  # Temporalmente deshabilitar el cálculo de gradientes\n",
        "    predicciones = modelo(X_test)  # Calcular predicciones en el conjunto de prueba sin realizar seguimiento de gradientes\n",
        "\n",
        "    # Imprimir las predicciones en el conjunto de prueba\n",
        "    print(\"Predicciones en el conjunto de prueba:\")\n",
        "    print(predicciones)"
      ],
      "metadata": {
        "colab": {
          "base_uri": "https://localhost:8080/"
        },
        "id": "r8z1CeV5qdTW",
        "outputId": "c34a8504-0401-4def-e522-66781eeb2b90"
      },
      "execution_count": 8,
      "outputs": [
        {
          "output_type": "stream",
          "name": "stdout",
          "text": [
            "Predicciones en el conjunto de prueba:\n",
            "tensor([[ 1.2446e-01],\n",
            "        [-2.5752e-01],\n",
            "        [ 1.0990e-01],\n",
            "        [ 1.4820e-01],\n",
            "        [-4.1459e-02],\n",
            "        [-2.8969e-01],\n",
            "        [-1.4362e-01],\n",
            "        [ 4.4621e-04],\n",
            "        [-6.1024e-02],\n",
            "        [ 4.2011e-01],\n",
            "        [ 9.9947e-02],\n",
            "        [-3.3715e-01],\n",
            "        [-2.8157e-01],\n",
            "        [-6.9056e-03],\n",
            "        [ 4.8633e-02],\n",
            "        [ 6.7854e-02],\n",
            "        [ 2.3231e-02],\n",
            "        [-3.2081e-01],\n",
            "        [-2.6028e-01],\n",
            "        [ 1.4290e-01],\n",
            "        [ 7.3508e-02],\n",
            "        [ 9.0899e-02],\n",
            "        [ 4.2588e-03],\n",
            "        [ 1.1180e-01],\n",
            "        [-1.9243e-02],\n",
            "        [ 4.0899e-01],\n",
            "        [-8.8254e-02],\n",
            "        [-2.7288e-01],\n",
            "        [-1.3179e-01],\n",
            "        [ 1.4354e-02],\n",
            "        [ 5.6782e-02],\n",
            "        [ 1.1560e-01],\n",
            "        [-2.3210e-02],\n",
            "        [-4.7625e-02],\n",
            "        [-2.4509e-01],\n",
            "        [-3.1535e-02],\n",
            "        [ 2.4994e-01],\n",
            "        [ 1.4777e-01],\n",
            "        [ 1.9407e-01],\n",
            "        [-2.4089e-02],\n",
            "        [-1.8338e-01],\n",
            "        [ 2.7276e-03],\n",
            "        [ 2.6180e-01],\n",
            "        [ 4.5712e-02],\n",
            "        [ 6.8115e-02],\n",
            "        [ 4.2333e-01],\n",
            "        [-2.1584e-01],\n",
            "        [-3.6450e-01],\n",
            "        [-6.4337e-02],\n",
            "        [-9.1175e-02],\n",
            "        [ 2.5673e-02],\n",
            "        [ 1.2540e-01],\n",
            "        [ 5.0219e-01],\n",
            "        [ 2.0568e-01],\n",
            "        [-2.0757e-03],\n",
            "        [-2.0188e-01],\n",
            "        [-2.3062e-01],\n",
            "        [-3.3647e-01],\n",
            "        [-2.2428e-01],\n",
            "        [-6.4701e-02],\n",
            "        [ 4.5831e-01],\n",
            "        [ 2.1137e-01],\n",
            "        [-2.4960e-01],\n",
            "        [-1.6343e-02],\n",
            "        [ 1.0414e-01],\n",
            "        [-2.5596e-01],\n",
            "        [-2.0960e-02],\n",
            "        [-1.5335e-01],\n",
            "        [-2.7725e-01],\n",
            "        [ 2.4717e-01],\n",
            "        [ 1.3862e-01],\n",
            "        [ 2.0616e-01],\n",
            "        [ 5.9943e-02],\n",
            "        [ 2.5225e-01],\n",
            "        [ 2.4559e-01],\n",
            "        [ 9.8677e-02],\n",
            "        [ 2.2147e-01],\n",
            "        [ 7.0016e-02],\n",
            "        [-2.9635e-01],\n",
            "        [-1.1271e-01],\n",
            "        [ 2.4322e-01],\n",
            "        [ 2.1754e-03],\n",
            "        [ 1.0949e-01],\n",
            "        [-3.9260e-02],\n",
            "        [ 7.0549e-02],\n",
            "        [-3.3374e-02],\n",
            "        [-2.4757e-01],\n",
            "        [-2.6787e-01],\n",
            "        [ 6.9698e-02],\n",
            "        [ 7.7990e-02],\n",
            "        [ 1.9950e-01],\n",
            "        [ 1.1564e-01],\n",
            "        [-2.1853e-01],\n",
            "        [ 2.4182e-02],\n",
            "        [ 9.8771e-02],\n",
            "        [ 6.6547e-02],\n",
            "        [ 2.7735e-01],\n",
            "        [ 1.9515e-01],\n",
            "        [ 1.4618e-01],\n",
            "        [ 1.0950e-01],\n",
            "        [-2.0917e-01],\n",
            "        [ 2.0022e-01],\n",
            "        [ 4.8447e-01],\n",
            "        [ 1.0249e-01],\n",
            "        [ 1.4458e-01],\n",
            "        [-1.2052e-02],\n",
            "        [ 1.1131e-01],\n",
            "        [ 2.2624e-01],\n",
            "        [ 2.5833e-01],\n",
            "        [ 1.0384e-01],\n",
            "        [ 7.5597e-02],\n",
            "        [-1.8817e-01],\n",
            "        [-1.4525e-02],\n",
            "        [ 2.5720e-01],\n",
            "        [-2.5289e-01],\n",
            "        [-1.3909e-02],\n",
            "        [-2.7671e-01],\n",
            "        [-2.9433e-01],\n",
            "        [ 7.2184e-02],\n",
            "        [-2.7731e-01],\n",
            "        [-1.2532e-01],\n",
            "        [ 2.3917e-01],\n",
            "        [ 1.0336e-01],\n",
            "        [-5.1773e-02],\n",
            "        [-7.6586e-02],\n",
            "        [ 5.6204e-02],\n",
            "        [ 4.3489e-02],\n",
            "        [ 2.7867e-02],\n",
            "        [ 5.2644e-02],\n",
            "        [-3.5353e-01],\n",
            "        [-2.3807e-01],\n",
            "        [-3.0613e-01],\n",
            "        [ 7.7198e-02],\n",
            "        [-1.9285e-01],\n",
            "        [ 1.3759e-01],\n",
            "        [ 1.4445e-01],\n",
            "        [ 2.6702e-01],\n",
            "        [ 1.1327e-01],\n",
            "        [ 4.8551e-02],\n",
            "        [ 1.0271e-01],\n",
            "        [ 3.4281e-01],\n",
            "        [ 5.0217e-02],\n",
            "        [-2.4195e-01],\n",
            "        [-2.1739e-01],\n",
            "        [ 2.4854e-01],\n",
            "        [-1.0349e-02],\n",
            "        [ 2.6063e-01],\n",
            "        [-2.5345e-01],\n",
            "        [ 9.2237e-02],\n",
            "        [-1.5793e-02],\n",
            "        [-2.0079e-01],\n",
            "        [ 1.2451e-01],\n",
            "        [ 2.3811e-01],\n",
            "        [ 5.5678e-02],\n",
            "        [-2.7152e-01],\n",
            "        [-2.9181e-01],\n",
            "        [-2.7330e-01],\n",
            "        [-1.1644e-02],\n",
            "        [ 5.6023e-02],\n",
            "        [ 2.6899e-02],\n",
            "        [-1.3534e-01],\n",
            "        [-2.2474e-01],\n",
            "        [-2.4106e-01],\n",
            "        [ 2.5078e-01],\n",
            "        [-2.9841e-01],\n",
            "        [ 7.4768e-02],\n",
            "        [ 5.7753e-02],\n",
            "        [-2.4255e-01],\n",
            "        [-2.8573e-02],\n",
            "        [-2.1752e-01],\n",
            "        [-2.5901e-01],\n",
            "        [ 1.2389e-01],\n",
            "        [ 1.3503e-01],\n",
            "        [ 4.4032e-01],\n",
            "        [ 9.0154e-02],\n",
            "        [-1.2006e-01],\n",
            "        [-2.2897e-01],\n",
            "        [-2.9130e-01],\n",
            "        [-3.6211e-02],\n",
            "        [-3.7191e-02],\n",
            "        [ 1.1082e-01],\n",
            "        [ 2.0342e-01],\n",
            "        [ 7.0300e-02],\n",
            "        [-3.0410e-01],\n",
            "        [ 5.1309e-02],\n",
            "        [ 3.3096e-02],\n",
            "        [-1.9041e-02],\n",
            "        [ 1.9746e-01],\n",
            "        [ 5.2101e-01]])\n"
          ]
        }
      ]
    },
    {
      "cell_type": "markdown",
      "source": [
        "En este bloque de código, se evalúa el modelo en el conjunto de prueba y se crea un gráfico de dispersión para comparar los valores reales y las predicciones del modelo.\n",
        "Se revierten las operaciones de normalización (inversa de la normalización) para obtener valores reales en la misma escala que los datos originales.\n",
        "Luego, se crea un gráfico de dispersión que muestra los valores reales en el eje x y las predicciones en el eje y.\n",
        "La línea roja representa una regresión lineal ideal donde los valores reales y las predicciones serían idénticos."
      ],
      "metadata": {
        "id": "iD2YTXhl_mtw"
      }
    },
    {
      "cell_type": "code",
      "source": [
        "# Evaluación del modelo en el conjunto de prueba y creación de un gráfico de dispersión\n",
        "\n",
        "modelo.eval()  # Poner el modelo en modo de evaluación (desactivar el seguimiento de gradientes)\n",
        "with torch.no_grad():  # Temporalmente deshabilitar el cálculo de gradientes\n",
        "    predicciones = modelo(X_test)  # Calcular predicciones en el conjunto de prueba\n",
        "\n",
        "    # Inversa de la normalización para obtener valores reales\n",
        "    predicciones = scaler_y.inverse_transform(predicciones)  # Predicciones del modelo\n",
        "    y_test = scaler_y.inverse_transform(y_test)  # Valores reales\n",
        "\n",
        "# Crear un gráfico de dispersión para comparar valores reales y predicciones\n",
        "plt.scatter(y_test, predicciones, label='Valores reales', color='blue')  # Valores reales vs. Predicciones\n",
        "plt.scatter(y_test, y_test, label='Regresión Lineal', color='red', marker='o')  # Línea de regresión ideal\n",
        "plt.xlabel(\"Valores reales\")\n",
        "plt.ylabel(\"Predicciones\")\n",
        "plt.title(\"Regresión Lineal Multivariable\")\n",
        "plt.legend()\n",
        "plt.grid(True)\n",
        "plt.show()"
      ],
      "metadata": {
        "colab": {
          "base_uri": "https://localhost:8080/",
          "height": 472
        },
        "id": "B-RDY4CCnAE-",
        "outputId": "52587f97-51aa-4836-ae1b-e52e7192f6bb"
      },
      "execution_count": 9,
      "outputs": [
        {
          "output_type": "display_data",
          "data": {
            "text/plain": [
              "<Figure size 640x480 with 1 Axes>"
            ],
            "image/png": "[encoded data removed]"
          },
          "metadata": {}
        }
      ]
    }
  ]
}