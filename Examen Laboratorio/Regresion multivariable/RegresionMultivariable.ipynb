{
  "nbformat": 4,
  "nbformat_minor": 0,
  "metadata": {
    "colab": {
      "provenance": []
    },
    "kernelspec": {
      "name": "python3",
      "display_name": "Python 3"
    },
    "language_info": {
      "name": "python"
    }
  },
  "cells": [
    {
      "cell_type": "code",
      "execution_count": null,
      "metadata": {
        "id": "PZ_4s4Eoi_ra"
      },
      "outputs": [],
      "source": [
        "import torch\n",
        "import torch.nn as nn\n",
        "import torch.optim as optim\n",
        "import pandas as pd\n",
        "import numpy as np\n",
        "from sklearn.model_selection import train_test_split\n",
        "from sklearn.preprocessing import StandardScaler\n",
        "import matplotlib.pyplot as plt"
      ]
    },
    {
      "cell_type": "code",
      "source": [
        "data = pd.read_csv('soybean_JUL14_Clean_File.csv')\n",
        "\n",
        "data = data.dropna()\n",
        "data = data.fillna(0)\n",
        "\n",
        "y = data[['TotalOpenInt']]\n",
        "X = data.drop(columns=['TotalOpenInt'])\n",
        "\n",
        "# Convierte las columnas a arreglos numpy\n",
        "X = X.to_numpy(dtype=np.float32)\n",
        "y = y.to_numpy(dtype=np.float32)\n",
        "\n",
        "# Normalizar los datos\n",
        "scaler_X = StandardScaler()\n",
        "X = scaler_X.fit_transform(X)\n",
        "\n",
        "scaler_y = StandardScaler()\n",
        "y = scaler_y.fit_transform(y)\n",
        "\n",
        "# Convierte los datos de numpy a tensores de PyTorch\n",
        "X = torch.tensor(X)\n",
        "y = torch.tensor(y)"
      ],
      "metadata": {
        "id": "d63HI5kWkikc"
      },
      "execution_count": null,
      "outputs": []
    },
    {
      "cell_type": "code",
      "source": [
        "# Divide los datos en conjuntos de entrenamiento y prueba\n",
        "X_train, X_test, y_train, y_test = train_test_split(X, y, test_size=0.2, random_state=42)"
      ],
      "metadata": {
        "id": "_AMy--F0kztK"
      },
      "execution_count": null,
      "outputs": []
    },
    {
      "cell_type": "code",
      "source": [
        "#Modelo de regresion lineal expresado en una clase\n",
        "class RegresionLineal(nn.Module):\n",
        "    def __init__(self, input_size, output_size):\n",
        "        super(RegresionLineal, self).__init__()\n",
        "        self.linear = nn.Linear(input_size, output_size)\n",
        "\n",
        "    def forward(self, x):\n",
        "        return self.linear(x)\n",
        "\n",
        "# Dimensiones de entrada y salida del modelo\n",
        "input_size = X.shape[1]  # El número de características en X\n",
        "output_size = 1"
      ],
      "metadata": {
        "id": "jDxECUMfmw-_"
      },
      "execution_count": null,
      "outputs": []
    },
    {
      "cell_type": "code",
      "source": [
        "# Crear una instancia del modelo\n",
        "modelo = RegresionLineal(input_size, output_size)"
      ],
      "metadata": {
        "id": "UOGMkBg5m1ON"
      },
      "execution_count": null,
      "outputs": []
    },
    {
      "cell_type": "code",
      "source": [
        "# Definir la función de pérdida (criterio) y el optimizador\n",
        "criterio = nn.MSELoss()  # Error cuadrático medio\n",
        "optimizador = optim.SGD(modelo.parameters(), lr=0.01)  # Descenso de gradiente estocástico"
      ],
      "metadata": {
        "id": "RsQ4bYMDm3dg"
      },
      "execution_count": null,
      "outputs": []
    },
    {
      "cell_type": "code",
      "source": [
        "# Entrenamiento del modelo\n",
        "num_epochs = 1000\n",
        "for epoch in range(num_epochs):\n",
        "    # Forward pass\n",
        "    outputs = modelo(X_train)\n",
        "    loss = criterio(outputs, y_train)\n",
        "\n",
        "    # Backward pass y optimización\n",
        "    optimizador.zero_grad()\n",
        "    loss.backward()\n",
        "    optimizador.step()\n",
        "\n",
        "    if (epoch + 1) % 100 == 0:\n",
        "        print(f'Época [{epoch + 1}/{num_epochs}], Pérdida: {loss.item():.4f}')"
      ],
      "metadata": {
        "colab": {
          "base_uri": "https://localhost:8080/"
        },
        "id": "9ROxM6VAm6_D",
        "outputId": "e5028d72-223e-49db-cf9f-6b9f0238eacd"
      },
      "execution_count": null,
      "outputs": [
        {
          "output_type": "stream",
          "name": "stdout",
          "text": [
            "Época [100/1000], Pérdida: 0.9349\n",
            "Época [200/1000], Pérdida: 0.9213\n",
            "Época [300/1000], Pérdida: 0.9155\n",
            "Época [400/1000], Pérdida: 0.9119\n",
            "Época [500/1000], Pérdida: 0.9096\n",
            "Época [600/1000], Pérdida: 0.9081\n",
            "Época [700/1000], Pérdida: 0.9070\n",
            "Época [800/1000], Pérdida: 0.9062\n",
            "Época [900/1000], Pérdida: 0.9056\n",
            "Época [1000/1000], Pérdida: 0.9052\n"
          ]
        }
      ]
    },
    {
      "cell_type": "code",
      "source": [
        "#Evaluacion del modelo\n",
        "modelo.eval()\n",
        "with torch.no_grad():\n",
        "    predicciones = modelo(X_test)\n",
        "    print(\"Predicciones en el conjunto de prueba:\")\n",
        "    print(predicciones)"
      ],
      "metadata": {
        "colab": {
          "base_uri": "https://localhost:8080/"
        },
        "id": "r8z1CeV5qdTW",
        "outputId": "3e0a234a-4e1b-4f3e-a014-04615f1dcd80"
      },
      "execution_count": null,
      "outputs": [
        {
          "output_type": "stream",
          "name": "stdout",
          "text": [
            "Predicciones en el conjunto de prueba:\n",
            "tensor([[ 1.2803e-01],\n",
            "        [-2.6458e-01],\n",
            "        [ 1.3526e-01],\n",
            "        [ 1.5161e-01],\n",
            "        [-4.3133e-02],\n",
            "        [-3.0661e-01],\n",
            "        [-1.7934e-01],\n",
            "        [ 5.1306e-02],\n",
            "        [-5.9261e-02],\n",
            "        [ 3.9347e-01],\n",
            "        [ 9.2326e-02],\n",
            "        [-3.5135e-01],\n",
            "        [-1.5838e-01],\n",
            "        [-1.1749e-02],\n",
            "        [ 4.4593e-02],\n",
            "        [ 7.3951e-02],\n",
            "        [ 1.7764e-02],\n",
            "        [-3.3465e-01],\n",
            "        [-2.4046e-01],\n",
            "        [ 1.4609e-01],\n",
            "        [ 7.2306e-02],\n",
            "        [ 8.5744e-02],\n",
            "        [ 1.9300e-02],\n",
            "        [ 1.1612e-01],\n",
            "        [-2.0736e-02],\n",
            "        [ 4.7516e-01],\n",
            "        [-1.1796e-01],\n",
            "        [-2.6972e-01],\n",
            "        [-1.8359e-01],\n",
            "        [-5.2349e-03],\n",
            "        [ 4.8232e-02],\n",
            "        [ 1.2032e-01],\n",
            "        [-2.1129e-02],\n",
            "        [-6.1586e-02],\n",
            "        [-2.2124e-01],\n",
            "        [-3.4186e-02],\n",
            "        [ 2.4840e-01],\n",
            "        [ 1.5212e-01],\n",
            "        [ 1.9400e-01],\n",
            "        [ 2.3807e-01],\n",
            "        [-1.9833e-01],\n",
            "        [ 3.4703e-04],\n",
            "        [ 2.6432e-01],\n",
            "        [ 3.9242e-02],\n",
            "        [ 6.1922e-02],\n",
            "        [ 3.5823e-01],\n",
            "        [-1.3943e-01],\n",
            "        [-3.8397e-01],\n",
            "        [-1.2976e-01],\n",
            "        [-4.5228e-02],\n",
            "        [-7.1446e-02],\n",
            "        [ 1.2861e-01],\n",
            "        [ 3.8010e-01],\n",
            "        [ 2.4880e-01],\n",
            "        [-7.3441e-02],\n",
            "        [ 4.9696e-02],\n",
            "        [-1.5291e-01],\n",
            "        [-3.5520e-01],\n",
            "        [-2.2827e-01],\n",
            "        [-1.3598e-01],\n",
            "        [ 6.6217e-01],\n",
            "        [ 2.1132e-01],\n",
            "        [-2.5201e-01],\n",
            "        [-1.8070e-02],\n",
            "        [ 9.4865e-02],\n",
            "        [-2.5520e-01],\n",
            "        [-2.0800e-02],\n",
            "        [-1.9491e-01],\n",
            "        [-1.9492e-01],\n",
            "        [ 2.4940e-01],\n",
            "        [ 1.4546e-01],\n",
            "        [ 2.0799e-01],\n",
            "        [ 7.2268e-01],\n",
            "        [ 2.4530e-01],\n",
            "        [ 2.4194e-01],\n",
            "        [ 1.3157e-01],\n",
            "        [ 2.2035e-01],\n",
            "        [ 7.7593e-02],\n",
            "        [-3.1557e-01],\n",
            "        [-1.6716e-01],\n",
            "        [ 2.4235e-01],\n",
            "        [-6.1382e-02],\n",
            "        [ 9.9428e-02],\n",
            "        [-3.5527e-02],\n",
            "        [ 7.5054e-02],\n",
            "        [-3.4906e-02],\n",
            "        [-2.5890e-01],\n",
            "        [-2.4593e-01],\n",
            "        [ 9.6652e-02],\n",
            "        [ 7.8140e-02],\n",
            "        [ 2.0227e-01],\n",
            "        [ 1.1937e-01],\n",
            "        [-2.3281e-01],\n",
            "        [ 4.0003e-01],\n",
            "        [ 1.0435e-01],\n",
            "        [ 7.2798e-02],\n",
            "        [ 2.8201e-01],\n",
            "        [ 1.9792e-01],\n",
            "        [ 1.4920e-01],\n",
            "        [ 1.1533e-01],\n",
            "        [-2.1175e-01],\n",
            "        [ 2.0142e-01],\n",
            "        [ 4.9828e-01],\n",
            "        [ 1.0764e-01],\n",
            "        [ 1.5401e-01],\n",
            "        [-1.6155e-02],\n",
            "        [ 1.1630e-01],\n",
            "        [ 2.2420e-01],\n",
            "        [ 2.6148e-01],\n",
            "        [ 9.4503e-02],\n",
            "        [ 7.7976e-02],\n",
            "        [-2.2276e-01],\n",
            "        [-1.7225e-02],\n",
            "        [ 2.5868e-01],\n",
            "        [-2.6196e-01],\n",
            "        [ 4.5181e-02],\n",
            "        [-3.0303e-01],\n",
            "        [-3.2053e-01],\n",
            "        [ 7.7021e-02],\n",
            "        [-2.8294e-01],\n",
            "        [-1.7373e-01],\n",
            "        [ 2.3687e-01],\n",
            "        [ 9.3983e-02],\n",
            "        [-9.1028e-02],\n",
            "        [-1.4463e-01],\n",
            "        [ 5.5233e-02],\n",
            "        [ 3.5272e-02],\n",
            "        [ 2.1774e-02],\n",
            "        [ 5.7960e-02],\n",
            "        [-3.3772e-01],\n",
            "        [-1.6990e-01],\n",
            "        [-2.7557e-01],\n",
            "        [ 7.2468e-02],\n",
            "        [-1.5841e-01],\n",
            "        [ 1.4058e-01],\n",
            "        [ 1.4856e-01],\n",
            "        [ 2.7231e-01],\n",
            "        [ 1.1838e-01],\n",
            "        [ 4.1580e-02],\n",
            "        [ 1.0768e-01],\n",
            "        [ 4.1772e-01],\n",
            "        [ 4.6809e-02],\n",
            "        [-1.2048e-01],\n",
            "        [-2.1041e-01],\n",
            "        [ 2.5037e-01],\n",
            "        [-1.6659e-01],\n",
            "        [ 2.6141e-01],\n",
            "        [-2.4277e-01],\n",
            "        [ 9.8585e-02],\n",
            "        [-1.6520e-02],\n",
            "        [-2.2958e-01],\n",
            "        [ 6.3339e-02],\n",
            "        [ 2.4121e-01],\n",
            "        [ 5.1452e-02],\n",
            "        [-2.3375e-01],\n",
            "        [-3.0175e-01],\n",
            "        [-2.5661e-01],\n",
            "        [-1.5136e-02],\n",
            "        [ 4.7928e-02],\n",
            "        [ 3.2741e-02],\n",
            "        [-1.1379e-01],\n",
            "        [-2.1948e-01],\n",
            "        [-2.2732e-01],\n",
            "        [ 2.4891e-01],\n",
            "        [-2.9196e-01],\n",
            "        [ 7.0446e-02],\n",
            "        [ 6.6702e-02],\n",
            "        [-2.3305e-01],\n",
            "        [-3.0489e-02],\n",
            "        [-1.7779e-01],\n",
            "        [-2.4700e-01],\n",
            "        [ 1.2730e-01],\n",
            "        [ 8.5982e-02],\n",
            "        [ 4.1058e-01],\n",
            "        [ 9.6551e-02],\n",
            "        [-1.4534e-01],\n",
            "        [-1.7247e-01],\n",
            "        [-2.7801e-01],\n",
            "        [-3.8649e-02],\n",
            "        [-3.9688e-02],\n",
            "        [ 1.6025e-01],\n",
            "        [ 2.0503e-01],\n",
            "        [ 7.8657e-02],\n",
            "        [-2.7541e-01],\n",
            "        [ 6.1848e-02],\n",
            "        [ 2.5681e-02],\n",
            "        [-1.9174e-02],\n",
            "        [ 1.9999e-01],\n",
            "        [ 3.3685e-01]])\n"
          ]
        }
      ]
    },
    {
      "cell_type": "code",
      "source": [
        "# Evaluar el modelo en el conjunto de prueba para obtener graficos\n",
        "modelo.eval()\n",
        "with torch.no_grad():\n",
        "    predicciones = modelo(X_test)\n",
        "    predicciones = scaler_y.inverse_transform(predicciones)  # Inversa de la normalización para obtener valores reales\n",
        "    y_test = scaler_y.inverse_transform(y_test)  # Inversa de la normalización para obtener valores reales\n",
        "\n",
        "plt.scatter(y_test, predicciones, label='Valores reales', color='blue')\n",
        "plt.scatter(y_test, y_test, label='Regresión Lineal', color='red', marker='o')\n",
        "plt.xlabel(\"Valores reales\")\n",
        "plt.ylabel(\"Predicciones\")\n",
        "plt.title(\"Regresión Lineal Multivariable\")\n",
        "plt.legend()\n",
        "plt.grid(True)\n",
        "plt.show()"
      ],
      "metadata": {
        "colab": {
          "base_uri": "https://localhost:8080/",
          "height": 472
        },
        "id": "B-RDY4CCnAE-",
        "outputId": "15838b28-096d-4f04-ba94-bd1af1af9716"
      },
      "execution_count": null,
      "outputs": [
        {
          "output_type": "display_data",
          "data": {
            "text/plain": [
              "<Figure size 640x480 with 1 Axes>"
            ],
            "image/png": "[encoded data removed]"
          },
          "metadata": {}
        }
      ]
    }
  ]
}